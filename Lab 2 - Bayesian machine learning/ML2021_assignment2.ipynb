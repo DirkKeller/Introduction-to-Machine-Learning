{
 "cells": [
  {
   "cell_type": "markdown",
   "metadata": {},
   "source": [
    "# Assignment 2\n",
    "\n",
    "*Part of the course:\n",
    "Machine Learning (code: INFOB3ML), fall 2021, Utrecht University*\n",
    "\n",
    "Total points: 9 + 1 bonus (+ 1 for free)\n",
    "\n",
    "Submit one ipynb file per pair.\n",
    "\n",
    "**Before you submit, click Kernel > Restart & Run All to make sure you submit a working version of your code!**"
   ]
  },
  {
   "cell_type": "markdown",
   "metadata": {},
   "source": [
    "## Coin Flipping\n",
    "In this second assignment, you're going to see how some of the central concepts from Bayesian machine learning behave in different scenarios. You'll be looking at the coin flipping example that has also taken a central place in the book and the lectures so far.\n",
    "\n",
    "When flipping a coin $N$ times, under very reasonable assumptions, the probability of getting $y$ times heads is given by the binomial distribution with parameters $N$ and $r$, where $r$ is the probability that the coin lands heads on one flip.\n",
    "\n",
    "SciPy includes functions for working with many well-known distributions, allowing you to sample from them and compute probabilities and densities, as well as many other properties. For the binomial distribution, you can compute the probability of getting $y$ heads with `binom.pmf(y, N, r)`."
   ]
  },
  {
   "cell_type": "markdown",
   "metadata": {},
   "source": [
    "**Task 1** (1 point): For the values $r = 0.0, 0.01, \\ldots, 1.0$, compute the likelihood of seeing 9 out of 10 heads, and plot these in a graph."
   ]
  },
  {
   "cell_type": "code",
   "execution_count": 1,
   "metadata": {},
   "outputs": [],
   "source": [
    "import numpy as np\n",
    "import pandas as pd\n",
    "import math\n",
    "import matplotlib.pyplot as plt\n",
    "from scipy.stats import binom\n",
    "from scipy.stats import beta as beta_dist\n",
    "import scipy.special as sps\n",
    "import random\n"
   ]
  },
  {
   "cell_type": "code",
   "execution_count": 2,
   "metadata": {},
   "outputs": [
    {
     "data": {
      "image/png": "[encoded data removed]",
      "text/plain": [
       "<Figure size 432x288 with 1 Axes>"
      ]
     },
     "metadata": {
      "needs_background": "light"
     },
     "output_type": "display_data"
    }
   ],
   "source": [
    "# Use np.linspace to get a NumPy array of evenly spaced values for r.\n",
    "r_vals = np.linspace(0, 1, 1000)\n",
    "probabilities = np.zeros_like(r_vals)\n",
    "\n",
    "N = 10\n",
    "y = 9\n",
    "\n",
    "for idx, r in enumerate(r_vals):\n",
    "    current_prob = binom.pmf(y, N, r)\n",
    "    probabilities[idx] = current_prob\n",
    "\n",
    "plt.plot(r_vals, probabilities)\n",
    "plt.show();"
   ]
  },
  {
   "cell_type": "markdown",
   "metadata": {},
   "source": [
    "### Predictors\n",
    "\n",
    "We will define three different \"predictor\" classes. The first will use maximum likelihood to make its predictions, the other two will use a Bayesian approach, with different kinds of priors. Each predictor object will have the following functions:\n",
    "\n",
    "* `predictor.update(num_heads, N)` returns a new predictor object. This predictor object takes into account that `N` new data points have been seen, `num_heads` of which were heads.\n",
    "\n",
    "* `predictor.predict()` returns a number between 0 and 1, which is the probability that this predictor assigns to the next coin flip coming up heads.\n",
    "\n",
    "* `predictor.marginal_likelihood(num_heads, N)` returns the Bayesian marginal likelihood. This is only defined for Bayesian predictors; for other types, it returns `np.nan` (\"not a number\").\n",
    "\n",
    "The definition of the `MaximumLikelihoodPredictor` predictor class is given below (you don't need to change it), with some testing code to see it in action."
   ]
  },
  {
   "cell_type": "code",
   "execution_count": 3,
   "metadata": {},
   "outputs": [
    {
     "name": "stdout",
     "output_type": "stream",
     "text": [
      "Before: MaxiLikeliPredctr with num_heads = 0, N = 0\n",
      "After: MaxiLikeliPredctr with num_heads = 2, N = 2\n",
      "prediction = 1.0\n"
     ]
    }
   ],
   "source": [
    "class MaximumLikelihoodPredictor:\n",
    "    def __init__(self):\n",
    "        self.num_heads = 0\n",
    "        self.N = 0\n",
    "    def __str__(self):\n",
    "        return f\"MaxiLikeliPredctr with num_heads = {self.num_heads}, N = {self.N}\"\n",
    "    def update(self, num_heads, N):\n",
    "        after = MaximumLikelihoodPredictor()\n",
    "        after.num_heads += num_heads\n",
    "        after.N += N\n",
    "        return after\n",
    "    def predict(self):\n",
    "        return self.num_heads / self.N\n",
    "    def get_marginal_likelihood(self, num_heads, N):\n",
    "        return np.nan\n",
    "\n",
    "# ██████████ TEST ██████████\n",
    "predictor = MaximumLikelihoodPredictor()\n",
    "print(\"Before:\", predictor)\n",
    "# After two flips, both heads, you should get:\n",
    "# After: MaximumLikelihoodPredictor with num_heads = 2, N = 2\n",
    "# which should predict that the next flip will land heads with probability 1.0\n",
    "predictor_after = predictor.update(2, 2)\n",
    "print(\"After:\", predictor_after)\n",
    "print(\"prediction =\", predictor_after.predict())"
   ]
  },
  {
   "cell_type": "markdown",
   "metadata": {},
   "source": [
    "The two Bayesian predictor classes will be defined next. The first will use a discrete prior: instead of considering the entire range from 0 to 1 (containing infinitely many numbers) as possible values for $R$, it will only consider some finite set of such numbers. It assigns some probability to each of them, and these probabilities add up to 1. This finite set and the associated probabilities can be represented in Python by a dictionary, that maps a value $r$ to the probability assigned to it by the prior. For example, `prior.probability_for_r[.5] = .2` means that $P(R = .5) = .2$.\n",
    "\n",
    "Being a Bayesian predictor, the `update` function will use Bayes' theorem to compute the posterior distribution after having seen the data. For a discrete prior, the posterior will assign probability to the same values $r$, but the probability assigned may be different.\n",
    "\n",
    "**Task 2** (1 point): Complete the implementation of the `update` function below. (You'll finish to other incomplete functions in later tasks.) You can use the provided testing code to see if the posterior looks as it should."
   ]
  },
  {
   "cell_type": "code",
   "execution_count": 4,
   "metadata": {},
   "outputs": [
    {
     "name": "stdout",
     "output_type": "stream",
     "text": [
      "Prior: DiscrtPriorPredctr with P(R = 0.3333) = 0.5000; P(R = 0.6667) = 0.5000\n",
      "Posterior: DiscrtPriorPredctr with P(R = 0.3333) = 0.2000; P(R = 0.6667) = 0.8000\n",
      "prediction = 0.6\n",
      "marginal likelihood = 0.27777777777777773\n"
     ]
    }
   ],
   "source": [
    "class DiscretePriorPredictor:\n",
    "    def __init__(self):\n",
    "        self.probability_for_r = {}\n",
    "    def __str__(self):\n",
    "        return (\"DiscrtPriorPredctr with \"\n",
    "                + \"; \".join([f\"P(R = {r:.4f}) = {prior_prob:.4f}\"\n",
    "                             for r, prior_prob in self.probability_for_r.items()]))\n",
    "    def update(self, num_heads, N):\n",
    "        if not len(self.probability_for_r):\n",
    "            raise ValueError(\"assign probabilities for DiscretePriorPredictor before calling update\")\n",
    "\n",
    "        posterior = DiscretePriorPredictor()\n",
    "        total_prob = 0.0\n",
    "        for r, prior_prob in self.probability_for_r.items():\n",
    "            # Compute the value in the numerator of Bayes' theorem, and\n",
    "            # assign it to posterior.probability_for_r[r]\n",
    "            numerator = binom.pmf(num_heads, N, r) * self.probability_for_r[r]\n",
    "            posterior.probability_for_r[r] = numerator\n",
    "            total_prob += numerator\n",
    "\n",
    "        # Finaly, divide everything by the sum\n",
    "        for r, posterior_prob in posterior.probability_for_r.items():\n",
    "            posterior.probability_for_r[r] = np.float64(posterior.probability_for_r[r]) / np.float64(total_prob)\n",
    "        return posterior\n",
    "    def predict(self):\n",
    "        if not len(self.probability_for_r):\n",
    "            raise ValueError(\"assign probabilities for DiscretePriorPredictor before calling predict\")\n",
    "\n",
    "        summed_prob = 0\n",
    "        for r, prob in self.probability_for_r.items():\n",
    "            summed_prob += r * prob\n",
    "        return summed_prob\n",
    "    def get_marginal_likelihood(self, num_heads, N):\n",
    "        if not len(self.probability_for_r):\n",
    "            raise ValueError(\"assign probabilities for DiscretePriorPredictor before calling get_marginal_likelihood\")\n",
    "\n",
    "        marginal_sum = 0\n",
    "        for r in self.probability_for_r.keys():\n",
    "            marginal_sum += binom.pmf(num_heads, N, r) * self.probability_for_r[r]\n",
    "        return marginal_sum\n",
    "\n",
    "# ██████████ TEST ██████████\n",
    "discrete_prior = DiscretePriorPredictor()\n",
    "discrete_prior.probability_for_r[1/3] = 1/2\n",
    "discrete_prior.probability_for_r[2/3] = 1/2\n",
    "print(\"Prior:\", discrete_prior)\n",
    "# After two flips, both heads, you should get:\n",
    "# Posterior: DiscretePrior with P(R = 0.3333) = 0.2000; P(R = 0.6667) = 0.8000,\n",
    "# which should predict that the next flip will land heads with probability 0.6.\n",
    "# The marginal likelihood for these data and prior should be ~ 0.2777.\n",
    "discrete_posterior = discrete_prior.update(2, 2)\n",
    "print(\"Posterior:\", discrete_posterior)\n",
    "print(\"prediction =\", discrete_posterior.predict())\n",
    "print(\"marginal likelihood =\", discrete_prior.get_marginal_likelihood(2, 2))"
   ]
  },
  {
   "cell_type": "markdown",
   "metadata": {},
   "source": [
    "The Bayesian predictive distribution is the distribution over a new coin flip, conditioned on the data. Calling the `predict` function on the posterior should output the probability $P(\\text{new flip = heads} | \\text{previous data})$. You saw how to compute it on the final slide of lecture 5.\n",
    "\n",
    "**Task 3** (1 point): Implement the `predict` function above."
   ]
  },
  {
   "cell_type": "markdown",
   "metadata": {},
   "source": [
    "Finally, the marginal likelihood is the quantity that occurs in the denominator of Bayes' Theorem. In this case, the prior is discrete, so the marginal likelihood is given by a sum.\n",
    "\n",
    "The marginal likelihood is *not conditioned on the data*. In our code, the `posterior` object (computed by `update`) can tell us things that involve conditioning on the data. But for the marginal likelihood, we'll need to origina `prior` object. You'll see that the testing code calls `prior.get_marginal_likelihood`, not on `posterior.get_marginal_likelihood`.\n",
    "\n",
    "**Task 4** (0.5 points): Implement the `get_marginal_likelihood` function above."
   ]
  },
  {
   "cell_type": "markdown",
   "metadata": {},
   "source": [
    "**Task 5** (1 point): Write a function that visualises a `DiscretePriorPredictor` using vertical lines whose height denotes the probability attached to some value of $r$: something like [this figure from Wikipedia](https://en.wikipedia.org/wiki/Discrete_uniform_distribution#/media/File:Uniform_discrete_pmf_svg.svg). Use `plt.vlines`. Set the horizontal axis to run from -0.05 to 1.05. Use your function to plot the prior and the posterior from the test code above."
   ]
  },
  {
   "cell_type": "code",
   "execution_count": 5,
   "metadata": {},
   "outputs": [
    {
     "data": {
      "image/png": "[encoded data removed]",
      "text/plain": [
       "<Figure size 432x288 with 1 Axes>"
      ]
     },
     "metadata": {
      "needs_background": "light"
     },
     "output_type": "display_data"
    }
   ],
   "source": [
    "plt.vlines(discrete_prior.probability_for_r.keys(),\n",
    "           [0 for _ in range(len(discrete_posterior.probability_for_r))],\n",
    "           discrete_prior.probability_for_r.values(),\n",
    "           color='green')\n",
    "plt.vlines(discrete_posterior.probability_for_r.keys(),\n",
    "           [0 for _ in range(len(discrete_posterior.probability_for_r))],\n",
    "           discrete_posterior.probability_for_r.values(),\n",
    "           color='blue', linestyles='dotted')\n",
    "\n",
    "plt.xlim(-0.05, 1.05);\n",
    "plt.show()"
   ]
  },
  {
   "cell_type": "markdown",
   "metadata": {},
   "source": [
    "The final predictor class will use the Beta distribution. This is a continuous prior that considers all values of $r$ between 0 and 1. It is the conjugate prior for the binomial likelihood, which has some major computational advantages.\n",
    "\n",
    "**Task 6** (1 point): Implement `update` and `predict` below for the `BetaPriorPredictor`."
   ]
  },
  {
   "cell_type": "code",
   "execution_count": 6,
   "metadata": {
    "scrolled": true
   },
   "outputs": [
    {
     "name": "stdout",
     "output_type": "stream",
     "text": [
      "Prior: BetaPriorPredctr with alpha = 1.0000, beta = 1.0000\n",
      "Posterior: BetaPriorPredctr with alpha = 3.0000, beta = 1.0000\n",
      "prediction = 0.75\n",
      "marginal likelihood = 0.3333333333333331\n"
     ]
    }
   ],
   "source": [
    "class BetaPriorPredictor:\n",
    "    def __init__(self, alpha, beta):\n",
    "        self.alpha = alpha\n",
    "        self.beta = beta\n",
    "    def __str__(self):\n",
    "        return f\"BetaPriorPredctr with alpha = {self.alpha:.4f}, beta = {self.beta:.4f}\"\n",
    "    def update(self, num_heads, N):\n",
    "        # We need alpha and beta for the beta dist.\n",
    "        a = self.alpha + num_heads\n",
    "        b = self.beta + (N - num_heads)\n",
    "        return BetaPriorPredictor(a, b)\n",
    "    def predict(self):\n",
    "        return (self.alpha / (self.alpha + self.beta)) # Expected value of beta dist\n",
    "    def get_marginal_likelihood(self, num_heads, N):\n",
    "        if self.alpha < 1e-9 or self.beta < 1e-9:\n",
    "            return np.nan\n",
    "        # The Gamma function may output really large numbers. To avoid\n",
    "        # numerical inaccuracy, the following code works with logarithms instead,\n",
    "        # converting back to the actual number when all Gamma's have been combined.\n",
    "        return (#math.comb(N, num_heads) # since version 3.8\n",
    "                sps.binom(N, num_heads)\n",
    "                * math.exp(math.lgamma(self.alpha + self.beta)\n",
    "                           - math.lgamma(self.alpha)\n",
    "                           - math.lgamma(self.beta)\n",
    "                           + math.lgamma(self.alpha + num_heads)\n",
    "                           + math.lgamma(self.beta + N - num_heads)\n",
    "                           - math.lgamma(self.alpha + self.beta + N)\n",
    "                          )\n",
    "               )\n",
    "    \n",
    "# ██████████ TEST ██████████\n",
    "beta_prior = BetaPriorPredictor(1, 1)\n",
    "print(\"Prior:\", beta_prior)\n",
    "# After two flips, both heads, you should get:\n",
    "# Posterior: BetaPrior with alpha = 3.0000, beta = 1.0000\n",
    "# which should predict that the next flip will land heads with probability 0.75\n",
    "# The marginal likelihood for these data and prior should be ~ 0.3333.\n",
    "beta_posterior = beta_prior.update(2, 2)\n",
    "print(\"Posterior:\", beta_posterior)\n",
    "print(\"prediction =\", beta_posterior.predict())\n",
    "print(\"marginal likelihood =\", beta_prior.get_marginal_likelihood(2, 2))"
   ]
  },
  {
   "cell_type": "markdown",
   "metadata": {},
   "source": [
    "**Task 7** (0.5 points): Write a function that visualises a `BetaPriorPredictor` by plotting its probability density function. You can use the `beta` object from `scipy.stats`, which has already been imported. Use your function to plot the prior and the posterior from the test code above."
   ]
  },
  {
   "cell_type": "code",
   "execution_count": 7,
   "metadata": {},
   "outputs": [
    {
     "data": {
      "image/png": "[encoded data removed]",
      "text/plain": [
       "<Figure size 432x288 with 1 Axes>"
      ]
     },
     "metadata": {
      "needs_background": "light"
     },
     "output_type": "display_data"
    }
   ],
   "source": [
    "plotting_r_7 = np.linspace(10**-4, 1-(10**-4))\n",
    "\n",
    "plt.plot(plotting_r_7,\n",
    "         beta_dist.pdf(plotting_r_7,\n",
    "                       beta_posterior.alpha,\n",
    "                       beta_posterior.beta),\n",
    "         color='green');\n",
    "plt.plot(plotting_r_7, \n",
    "         beta_dist.pdf(plotting_r_7,\n",
    "                       beta_prior.alpha,\n",
    "                       beta_prior.beta),\n",
    "         linestyle='dotted',\n",
    "         color='green');"
   ]
  },
  {
   "cell_type": "markdown",
   "metadata": {},
   "source": [
    "**Question 8** (0.5 points): For what values of alpha and beta does the Beta distribution have the same shape as the likelihood you plotted in task 1? Explain your answer, and verify it by showing the plot."
   ]
  },
  {
   "cell_type": "markdown",
   "metadata": {},
   "source": [
    "**Answer:** The shape of the liklihood is the same for $\\alpha=10,\\beta=2$. That's because for those values, we 'update' the intial prior to look just like the prior we had in 1. (The current distribution has now become the same as immediately initalising it with those values.)"
   ]
  },
  {
   "cell_type": "code",
   "execution_count": 8,
   "metadata": {},
   "outputs": [
    {
     "name": "stdout",
     "output_type": "stream",
     "text": [
      "Posterior: BetaPriorPredctr with alpha = 10.0000, beta = 2.0000\n"
     ]
    },
    {
     "data": {
      "image/png": "[encoded data removed]",
      "text/plain": [
       "<Figure size 432x288 with 1 Axes>"
      ]
     },
     "metadata": {
      "needs_background": "light"
     },
     "output_type": "display_data"
    }
   ],
   "source": [
    "beta_prior_8 = BetaPriorPredictor(1+9,1+1)\n",
    "print(\"Posterior:\", beta_prior_8)\n",
    "\n",
    "plotting_r_8 = np.linspace(10**-4, 1-(10**-4))\n",
    "plt.plot(plotting_r_8,\n",
    "         beta_dist.pdf(plotting_r_8,\n",
    "                       beta_prior_8.alpha,\n",
    "                       beta_prior_8.beta),\n",
    "         color='green');"
   ]
  },
  {
   "cell_type": "markdown",
   "metadata": {},
   "source": [
    "### Experimenting with different predictors\n",
    "\n",
    "Next, we want to see the predictors in action. First, the code below creates a list of ten predictors, using the three classes defined above. We'll investigate their behaviour on several different values of the true probability of getting heads. These probabilities are defined below by `true_rs = [0, .3, .5, 2/3, .75, .999]`.\n",
    "\n",
    "Note that the final predictor in the list, `BetaPriorPredictor(0, 0)`, doesn't satisfy the constraints for being a proper Beta prior: that requires $\\alpha > 0$ and $\\beta > 0$. The problem is in the normalisation constant, which is undefined in this case. As we've seen, we can often get away with ignoring the normalisation constant, and by carrying this a bit further, we can use this unnormalised distribution as a prior in Bayes' theorem. Such a thing is called a *degenerate prior*. Often (but not always), the posterior we find will be a proper distribution again."
   ]
  },
  {
   "cell_type": "code",
   "execution_count": 9,
   "metadata": {},
   "outputs": [],
   "source": [
    "# Create a list of predictors to be compared.\n",
    "predictors = [MaximumLikelihoodPredictor()]\n",
    "\n",
    "prior = DiscretePriorPredictor()\n",
    "prior.probability_for_r[1/3] = 1/2\n",
    "prior.probability_for_r[2/3] = 1/2\n",
    "predictors.append(prior)\n",
    "\n",
    "prior = DiscretePriorPredictor()\n",
    "prior.probability_for_r[1/3] = 1/3\n",
    "prior.probability_for_r[1/2] = 1/3\n",
    "prior.probability_for_r[2/3] = 1/3\n",
    "predictors.append(prior)\n",
    "\n",
    "prior = DiscretePriorPredictor()\n",
    "prior.probability_for_r[0] = 1/2\n",
    "prior.probability_for_r[1] = 1/2\n",
    "predictors.append(prior)\n",
    "\n",
    "prior = DiscretePriorPredictor()\n",
    "for r in np.linspace(0, 1, 11):\n",
    "    prior.probability_for_r[r] = 1/11\n",
    "predictors.append(prior)\n",
    "\n",
    "prior = DiscretePriorPredictor()\n",
    "for r in np.linspace(0, 1, 101):\n",
    "    prior.probability_for_r[r] = 1/101\n",
    "predictors.append(prior)\n",
    "\n",
    "prior = BetaPriorPredictor(1, 1)\n",
    "predictors.append(prior)\n",
    "\n",
    "prior = BetaPriorPredictor(3, 3)\n",
    "predictors.append(prior)\n",
    "\n",
    "prior = BetaPriorPredictor(.5, .5)\n",
    "predictors.append(prior)\n",
    "\n",
    "prior = BetaPriorPredictor(0, 0)\n",
    "predictors.append(prior)\n",
    "\n",
    "true_rs = [0, .3, .5, 2/3, .75, .999]"
   ]
  },
  {
   "cell_type": "markdown",
   "metadata": {},
   "source": [
    "For each combination of a predictor and a value $r_\\text{true}$ from `true_rs`, we will sample some training data (say 100 coin flips) and compute an updated predictor using these data. For the Bayesian predictors, this comes down to computing the posterior distribution. Then we'll sample some test data, say 100 points again. For both the training and the test data, the true probability of getting heads on each flip is given by $r_\\text{true}$.\n",
    "\n",
    "Now we want to evaluate how well the predictor does at predicting the test data. There are several ways to measure this. We'll try two different ones: the *logarithmic loss* and the *logarithmic regret*.\n",
    "\n",
    "The **logarithmic loss** is something you may have seen before in other places. For instance, logistic regression is training to minimise this loss, and it's also one of the most popular choices when training neural networks for binary classification problems (there you may have seen it under the name \"cross entropy\"). Suppose the predictor assigns probability $\\hat{r}$ to the outcome heads for a new coin flip $Y_\\text{new}$, and that a new flip actually comes out as $y_\\text{new}$ (1 for heads, 0 for tails). Then the logarithmic loss of this prediction is\n",
    "$$-\\log P_{\\hat{r}} ( Y_\\text{new} = y_\\text{new} ).$$\n",
    "In other words, if the coin in the test data came up heads, the loss is $-\\log (\\hat{r})$; if it came up tails, the loss is $-\\log (1 - \\hat{r})$.\n",
    "\n",
    "The logarithm of 1 is 0, and as $x$ goes down to $0$, $\\log(x)$ goes down to $-\\infty$. So we see that the logarithmic loss is a small positive number if the outcome of the test data point was something the predictor thought was probably going to happen. But if something happens that the predictor thought would happen only with a small probability, the logarithmic loss will be larger.\n",
    "\n",
    "Implementation note: because the logarithm of 0 is minus infinity, write your code in such a way that if no flip happened for which the predicted probability was 0, then $\\log(0)$ isn't called.\n",
    "\n",
    "One issue with logarithmic loss (or any loss, for that matter) is, that it's easier for predictors to get low average losses if $r_\\text{true}$ is close to 0 or 1, but much harder if it's closer to 0.5. To make the comparison more fair, we can look at the **regret** corresponding to the loss, so logarithmic regret in our case. The regret equals the loss of a predictor *minus* the loss of an ideal predictor that already knew the value $r_\\text{true}$. In other words, the ideal predictor uses $r_\\text{true}$ in the place where other predictors use $\\hat{r}$. By comparing our predictor's loss to the loss even a clairvoyant predictor would obtain, we'll get numbers that are more meaningful when different values of $r_\\text{true}$ are involved.\n",
    "\n",
    "**Task 9** (1.5 points): For each combination of predictor and $r_\\text{true}$, repeat this process 100 times (including getting new training and new test data every time), and store the following in three NumPy arrays:\n",
    "\n",
    "* The average loss;\n",
    "\n",
    "* The average regret;\n",
    "\n",
    "* The average marginal likelihood of the *training data* (don't use the test data for this one!)"
   ]
  },
  {
   "cell_type": "code",
   "execution_count": 10,
   "metadata": {
    "scrolled": true
   },
   "outputs": [
    {
     "name": "stderr",
     "output_type": "stream",
     "text": [
      "C:\\Users\\DK\\anaconda3\\envs\\TensorFlow\\lib\\site-packages\\ipykernel_launcher.py:23: RuntimeWarning: invalid value encountered in double_scalars\n"
     ]
    }
   ],
   "source": [
    "N_train = 100\n",
    "N_test = 100\n",
    "N_iter = 100\n",
    "\n",
    "losses = np.full((len(true_rs), len(predictors), N_iter), None)\n",
    "regrets = np.full((len(true_rs), len(predictors), N_iter), None)\n",
    "likelihoods = np.full((len(true_rs), len(predictors), N_iter), None)\n",
    "\n",
    "# For each true r,\n",
    "for r_idx, r_true in enumerate(true_rs):\n",
    "    for prior_idx, prior in enumerate(predictors): # Consider each prior\n",
    "        for N in range(N_iter): # Repeat the experiment N_iter times\n",
    "\n",
    "            # Generate the data\n",
    "            heads_train = np.random.binomial(N_train, r_true)\n",
    "            heads_test = np.random.binomial(N_test, r_true)\n",
    "            # Use it to update the prior\n",
    "            posterior = prior.update(heads_train, N_train) #N or N_train\n",
    "            # get r-hat after evidence was observed\n",
    "            r_hat = posterior.predict()\n",
    "\n",
    "            # use r_hat and r_true to calculate the loss with respect to the test-set\n",
    "            if   (r_hat == 1 and heads_test == N_test):   curr_loss = (heads_test) * -1 * np.log(r_hat)                  # r_hat = 1 & only heads\n",
    "            elif (r_hat == 1 and heads_test != N_test):   curr_loss = np.inf                                             # r_hat = 1 & not only heads\n",
    "            elif (r_hat == 0 and heads_test == 0):        curr_loss = (N_test - heads_test) * -1 * np.log(1 - r_hat)     # r_hat = 0 & only tails\n",
    "            elif (r_hat == 0 and heads_test != 0):        curr_loss = np.inf                                             # r_hat = 0 & not only tails\n",
    "            else: curr_loss = (heads_test) * -1 * np.log(r_hat) + (N_test - heads_test) * -1 * np.log(1 - r_hat)\n",
    "\n",
    "            # de regret is nu loss_rhat - loss_rtrue\n",
    "            if   (r_true == 1 and heads_test == N_test):  curr_true_loss = (heads_test) * -1 * np.log(r_true)\n",
    "            elif (r_true == 1 and heads_test != N_test):  curr_true_loss = np.inf\n",
    "            elif (r_true == 0 and heads_test == 0):       curr_true_loss = (N_test - heads_test) * -1 * np.log(1 - r_true)\n",
    "            elif (r_true == 0 and heads_test != 0):       curr_true_loss = np.inf\n",
    "            else: curr_true_loss = (heads_test) * -1 * np.log(r_true) + (N_test - heads_test) * -1 * np.log(1 - r_true)\n",
    "\n",
    "            # calculate the regret loss\n",
    "            curr_regret = curr_loss - curr_true_loss\n",
    "            # calculate the marginal likelihood\n",
    "            curr_likelihood = prior.get_marginal_likelihood(heads_train, N_train)\n",
    "\n",
    "            # Save the losses, regrets and marginal liklihoods (in order to calculate their mean)\n",
    "            losses[r_idx, prior_idx, N] = curr_loss\n",
    "            regrets[r_idx, prior_idx, N] = curr_regret\n",
    "            likelihoods[r_idx, prior_idx, N] = curr_likelihood"
   ]
  },
  {
   "cell_type": "code",
   "execution_count": 11,
   "metadata": {},
   "outputs": [],
   "source": [
    "def printStr(FloatNumber, Precision):\n",
    "    return \"%0.*f\" % (Precision, FloatNumber)"
   ]
  },
  {
   "cell_type": "code",
   "execution_count": 12,
   "metadata": {},
   "outputs": [
    {
     "data": {
      "text/html": [
       "<div>\n",
       "<style scoped>\n",
       "    .dataframe tbody tr th:only-of-type {\n",
       "        vertical-align: middle;\n",
       "    }\n",
       "\n",
       "    .dataframe tbody tr th {\n",
       "        vertical-align: top;\n",
       "    }\n",
       "\n",
       "    .dataframe thead th {\n",
       "        text-align: right;\n",
       "    }\n",
       "</style>\n",
       "<table border=\"1\" class=\"dataframe\">\n",
       "  <thead>\n",
       "    <tr style=\"text-align: right;\">\n",
       "      <th></th>\n",
       "      <th>0.000</th>\n",
       "      <th>0.300</th>\n",
       "      <th>0.500</th>\n",
       "      <th>0.667</th>\n",
       "      <th>0.750</th>\n",
       "      <th>0.999</th>\n",
       "    </tr>\n",
       "  </thead>\n",
       "  <tbody>\n",
       "    <tr>\n",
       "      <th>MaxiLikeliPredctr</th>\n",
       "      <td>-0</td>\n",
       "      <td>61.619</td>\n",
       "      <td>69.6941</td>\n",
       "      <td>64.3595</td>\n",
       "      <td>56.6721</td>\n",
       "      <td>inf</td>\n",
       "    </tr>\n",
       "    <tr>\n",
       "      <th>DiscrtPriorPredctr</th>\n",
       "      <td>40.5465</td>\n",
       "      <td>61.2993</td>\n",
       "      <td>74.064</td>\n",
       "      <td>63.864</td>\n",
       "      <td>57.6118</td>\n",
       "      <td>40.6366</td>\n",
       "    </tr>\n",
       "    <tr>\n",
       "      <th>DiscrtPriorPredctr</th>\n",
       "      <td>40.5465</td>\n",
       "      <td>61.7074</td>\n",
       "      <td>69.7335</td>\n",
       "      <td>63.9137</td>\n",
       "      <td>57.7525</td>\n",
       "      <td>40.6228</td>\n",
       "    </tr>\n",
       "    <tr>\n",
       "      <th>DiscrtPriorPredctr</th>\n",
       "      <td>-0</td>\n",
       "      <td>NaN</td>\n",
       "      <td>NaN</td>\n",
       "      <td>NaN</td>\n",
       "      <td>NaN</td>\n",
       "      <td>NaN</td>\n",
       "    </tr>\n",
       "    <tr>\n",
       "      <th>DiscrtPriorPredctr</th>\n",
       "      <td>0.000265611</td>\n",
       "      <td>61.6009</td>\n",
       "      <td>69.8104</td>\n",
       "      <td>64.7561</td>\n",
       "      <td>57.3301</td>\n",
       "      <td>2.46401</td>\n",
       "    </tr>\n",
       "    <tr>\n",
       "      <th>DiscrtPriorPredctr</th>\n",
       "      <td>0.568574</td>\n",
       "      <td>61.1149</td>\n",
       "      <td>70.0465</td>\n",
       "      <td>64.3485</td>\n",
       "      <td>56.731</td>\n",
       "      <td>1.28086</td>\n",
       "    </tr>\n",
       "    <tr>\n",
       "      <th>BetaPriorPredctr</th>\n",
       "      <td>0.98523</td>\n",
       "      <td>61.6534</td>\n",
       "      <td>70.0097</td>\n",
       "      <td>64.4312</td>\n",
       "      <td>56.3906</td>\n",
       "      <td>1.4989</td>\n",
       "    </tr>\n",
       "    <tr>\n",
       "      <th>BetaPriorPredctr</th>\n",
       "      <td>2.87101</td>\n",
       "      <td>61.9979</td>\n",
       "      <td>69.7018</td>\n",
       "      <td>64.3545</td>\n",
       "      <td>56.5267</td>\n",
       "      <td>3.36676</td>\n",
       "    </tr>\n",
       "    <tr>\n",
       "      <th>BetaPriorPredctr</th>\n",
       "      <td>0.496279</td>\n",
       "      <td>61.7074</td>\n",
       "      <td>69.8535</td>\n",
       "      <td>63.8822</td>\n",
       "      <td>56.6175</td>\n",
       "      <td>1.14661</td>\n",
       "    </tr>\n",
       "    <tr>\n",
       "      <th>BetaPriorPredctr</th>\n",
       "      <td>-0</td>\n",
       "      <td>61.3535</td>\n",
       "      <td>69.7362</td>\n",
       "      <td>64.4125</td>\n",
       "      <td>56.7035</td>\n",
       "      <td>inf</td>\n",
       "    </tr>\n",
       "  </tbody>\n",
       "</table>\n",
       "</div>"
      ],
      "text/plain": [
       "                          0.000    0.300    0.500    0.667    0.750    0.999\n",
       "MaxiLikeliPredctr            -0   61.619  69.6941  64.3595  56.6721      inf\n",
       "DiscrtPriorPredctr      40.5465  61.2993   74.064   63.864  57.6118  40.6366\n",
       "DiscrtPriorPredctr      40.5465  61.7074  69.7335  63.9137  57.7525  40.6228\n",
       "DiscrtPriorPredctr           -0      NaN      NaN      NaN      NaN      NaN\n",
       "DiscrtPriorPredctr  0.000265611  61.6009  69.8104  64.7561  57.3301  2.46401\n",
       "DiscrtPriorPredctr     0.568574  61.1149  70.0465  64.3485   56.731  1.28086\n",
       "BetaPriorPredctr        0.98523  61.6534  70.0097  64.4312  56.3906   1.4989\n",
       "BetaPriorPredctr        2.87101  61.9979  69.7018  64.3545  56.5267  3.36676\n",
       "BetaPriorPredctr       0.496279  61.7074  69.8535  63.8822  56.6175  1.14661\n",
       "BetaPriorPredctr             -0  61.3535  69.7362  64.4125  56.7035      inf"
      ]
     },
     "execution_count": 12,
     "metadata": {},
     "output_type": "execute_result"
    }
   ],
   "source": [
    "l_df = pd.DataFrame(np.mean(losses, axis = 2),\n",
    "             index = [printStr(r, 3) for r in true_rs], \n",
    "             columns = [str(a).split(' ', 1)[0] for a in predictors])\n",
    "l_df.transpose()"
   ]
  },
  {
   "cell_type": "code",
   "execution_count": 13,
   "metadata": {},
   "outputs": [
    {
     "data": {
      "text/html": [
       "<div>\n",
       "<style scoped>\n",
       "    .dataframe tbody tr th:only-of-type {\n",
       "        vertical-align: middle;\n",
       "    }\n",
       "\n",
       "    .dataframe tbody tr th {\n",
       "        vertical-align: top;\n",
       "    }\n",
       "\n",
       "    .dataframe thead th {\n",
       "        text-align: right;\n",
       "    }\n",
       "</style>\n",
       "<table border=\"1\" class=\"dataframe\">\n",
       "  <thead>\n",
       "    <tr style=\"text-align: right;\">\n",
       "      <th></th>\n",
       "      <th>0.000</th>\n",
       "      <th>0.300</th>\n",
       "      <th>0.500</th>\n",
       "      <th>0.667</th>\n",
       "      <th>0.750</th>\n",
       "      <th>0.999</th>\n",
       "    </tr>\n",
       "  </thead>\n",
       "  <tbody>\n",
       "    <tr>\n",
       "      <th>MaxiLikeliPredctr</th>\n",
       "      <td>0</td>\n",
       "      <td>0.422444</td>\n",
       "      <td>0.379382</td>\n",
       "      <td>0.835147</td>\n",
       "      <td>0.471519</td>\n",
       "      <td>inf</td>\n",
       "    </tr>\n",
       "    <tr>\n",
       "      <th>DiscrtPriorPredctr</th>\n",
       "      <td>40.5465</td>\n",
       "      <td>0.263745</td>\n",
       "      <td>4.74929</td>\n",
       "      <td>-5.0637e-07</td>\n",
       "      <td>1.79575</td>\n",
       "      <td>39.6387</td>\n",
       "    </tr>\n",
       "    <tr>\n",
       "      <th>DiscrtPriorPredctr</th>\n",
       "      <td>40.5465</td>\n",
       "      <td>0.197291</td>\n",
       "      <td>0.418751</td>\n",
       "      <td>0.153722</td>\n",
       "      <td>1.71673</td>\n",
       "      <td>39.763</td>\n",
       "    </tr>\n",
       "    <tr>\n",
       "      <th>DiscrtPriorPredctr</th>\n",
       "      <td>0</td>\n",
       "      <td>NaN</td>\n",
       "      <td>NaN</td>\n",
       "      <td>NaN</td>\n",
       "      <td>NaN</td>\n",
       "      <td>NaN</td>\n",
       "    </tr>\n",
       "    <tr>\n",
       "      <th>DiscrtPriorPredctr</th>\n",
       "      <td>0.000265611</td>\n",
       "      <td>0.548328</td>\n",
       "      <td>0.495721</td>\n",
       "      <td>0.483136</td>\n",
       "      <td>0.448404</td>\n",
       "      <td>1.60421</td>\n",
       "    </tr>\n",
       "    <tr>\n",
       "      <th>DiscrtPriorPredctr</th>\n",
       "      <td>0.568574</td>\n",
       "      <td>0.486023</td>\n",
       "      <td>0.731804</td>\n",
       "      <td>0.366694</td>\n",
       "      <td>0.47549</td>\n",
       "      <td>0.352001</td>\n",
       "    </tr>\n",
       "    <tr>\n",
       "      <th>BetaPriorPredctr</th>\n",
       "      <td>0.98523</td>\n",
       "      <td>0.482238</td>\n",
       "      <td>0.694948</td>\n",
       "      <td>0.594954</td>\n",
       "      <td>0.266946</td>\n",
       "      <td>0.777244</td>\n",
       "    </tr>\n",
       "    <tr>\n",
       "      <th>BetaPriorPredctr</th>\n",
       "      <td>2.87101</td>\n",
       "      <td>0.64885</td>\n",
       "      <td>0.387045</td>\n",
       "      <td>0.476616</td>\n",
       "      <td>0.315154</td>\n",
       "      <td>2.36883</td>\n",
       "    </tr>\n",
       "    <tr>\n",
       "      <th>BetaPriorPredctr</th>\n",
       "      <td>0.496279</td>\n",
       "      <td>0.299005</td>\n",
       "      <td>0.538782</td>\n",
       "      <td>0.517285</td>\n",
       "      <td>0.526767</td>\n",
       "      <td>0.355885</td>\n",
       "    </tr>\n",
       "    <tr>\n",
       "      <th>BetaPriorPredctr</th>\n",
       "      <td>0</td>\n",
       "      <td>0.572053</td>\n",
       "      <td>0.421502</td>\n",
       "      <td>0.583171</td>\n",
       "      <td>0.788617</td>\n",
       "      <td>inf</td>\n",
       "    </tr>\n",
       "  </tbody>\n",
       "</table>\n",
       "</div>"
      ],
      "text/plain": [
       "                          0.000     0.300     0.500       0.667     0.750  \\\n",
       "MaxiLikeliPredctr             0  0.422444  0.379382    0.835147  0.471519   \n",
       "DiscrtPriorPredctr      40.5465  0.263745   4.74929 -5.0637e-07   1.79575   \n",
       "DiscrtPriorPredctr      40.5465  0.197291  0.418751    0.153722   1.71673   \n",
       "DiscrtPriorPredctr            0       NaN       NaN         NaN       NaN   \n",
       "DiscrtPriorPredctr  0.000265611  0.548328  0.495721    0.483136  0.448404   \n",
       "DiscrtPriorPredctr     0.568574  0.486023  0.731804    0.366694   0.47549   \n",
       "BetaPriorPredctr        0.98523  0.482238  0.694948    0.594954  0.266946   \n",
       "BetaPriorPredctr        2.87101   0.64885  0.387045    0.476616  0.315154   \n",
       "BetaPriorPredctr       0.496279  0.299005  0.538782    0.517285  0.526767   \n",
       "BetaPriorPredctr              0  0.572053  0.421502    0.583171  0.788617   \n",
       "\n",
       "                       0.999  \n",
       "MaxiLikeliPredctr        inf  \n",
       "DiscrtPriorPredctr   39.6387  \n",
       "DiscrtPriorPredctr    39.763  \n",
       "DiscrtPriorPredctr       NaN  \n",
       "DiscrtPriorPredctr   1.60421  \n",
       "DiscrtPriorPredctr  0.352001  \n",
       "BetaPriorPredctr    0.777244  \n",
       "BetaPriorPredctr     2.36883  \n",
       "BetaPriorPredctr    0.355885  \n",
       "BetaPriorPredctr         inf  "
      ]
     },
     "execution_count": 13,
     "metadata": {},
     "output_type": "execute_result"
    }
   ],
   "source": [
    "r_df = pd.DataFrame(np.mean(regrets, axis = 2),\n",
    "             index = [printStr(r, 3) for r in true_rs], \n",
    "             columns = [str(a).split(' ', 1)[0] for a in predictors]).round(1)\n",
    "r_df.transpose()"
   ]
  },
  {
   "cell_type": "code",
   "execution_count": 14,
   "metadata": {},
   "outputs": [
    {
     "data": {
      "text/html": [
       "<div>\n",
       "<style scoped>\n",
       "    .dataframe tbody tr th:only-of-type {\n",
       "        vertical-align: middle;\n",
       "    }\n",
       "\n",
       "    .dataframe tbody tr th {\n",
       "        vertical-align: top;\n",
       "    }\n",
       "\n",
       "    .dataframe thead th {\n",
       "        text-align: right;\n",
       "    }\n",
       "</style>\n",
       "<table border=\"1\" class=\"dataframe\">\n",
       "  <thead>\n",
       "    <tr style=\"text-align: right;\">\n",
       "      <th></th>\n",
       "      <th>0.000</th>\n",
       "      <th>0.300</th>\n",
       "      <th>0.500</th>\n",
       "      <th>0.667</th>\n",
       "      <th>0.750</th>\n",
       "      <th>0.999</th>\n",
       "    </tr>\n",
       "  </thead>\n",
       "  <tbody>\n",
       "    <tr>\n",
       "      <th>MaxiLikeliPredctr</th>\n",
       "      <td>NaN</td>\n",
       "      <td>NaN</td>\n",
       "      <td>NaN</td>\n",
       "      <td>NaN</td>\n",
       "      <td>NaN</td>\n",
       "      <td>NaN</td>\n",
       "    </tr>\n",
       "    <tr>\n",
       "      <th>DiscrtPriorPredctr</th>\n",
       "      <td>1.22983e-18</td>\n",
       "      <td>0.0280742</td>\n",
       "      <td>0.00325072</td>\n",
       "      <td>0.0303582</td>\n",
       "      <td>0.0142947</td>\n",
       "      <td>2.12576e-17</td>\n",
       "    </tr>\n",
       "    <tr>\n",
       "      <th>DiscrtPriorPredctr</th>\n",
       "      <td>8.19885e-19</td>\n",
       "      <td>0.0170564</td>\n",
       "      <td>0.0216698</td>\n",
       "      <td>0.0208027</td>\n",
       "      <td>0.00898477</td>\n",
       "      <td>3.63209e-18</td>\n",
       "    </tr>\n",
       "    <tr>\n",
       "      <th>DiscrtPriorPredctr</th>\n",
       "      <td>0.5</td>\n",
       "      <td>0</td>\n",
       "      <td>0</td>\n",
       "      <td>0</td>\n",
       "      <td>0</td>\n",
       "      <td>0.475</td>\n",
       "    </tr>\n",
       "    <tr>\n",
       "      <th>DiscrtPriorPredctr</th>\n",
       "      <td>0.0909115</td>\n",
       "      <td>0.00903225</td>\n",
       "      <td>0.0090073</td>\n",
       "      <td>0.00903628</td>\n",
       "      <td>0.00896276</td>\n",
       "      <td>0.0800066</td>\n",
       "    </tr>\n",
       "    <tr>\n",
       "      <th>DiscrtPriorPredctr</th>\n",
       "      <td>0.0155655</td>\n",
       "      <td>0.00980296</td>\n",
       "      <td>0.00980296</td>\n",
       "      <td>0.00980296</td>\n",
       "      <td>0.00980296</td>\n",
       "      <td>0.0151145</td>\n",
       "    </tr>\n",
       "    <tr>\n",
       "      <th>BetaPriorPredctr</th>\n",
       "      <td>0.00990099</td>\n",
       "      <td>0.00990099</td>\n",
       "      <td>0.00990099</td>\n",
       "      <td>0.00990099</td>\n",
       "      <td>0.00990099</td>\n",
       "      <td>0.00990099</td>\n",
       "    </tr>\n",
       "    <tr>\n",
       "      <th>BetaPriorPredctr</th>\n",
       "      <td>5.33447e-05</td>\n",
       "      <td>0.0128259</td>\n",
       "      <td>0.0178762</td>\n",
       "      <td>0.0141058</td>\n",
       "      <td>0.0107185</td>\n",
       "      <td>5.74868e-05</td>\n",
       "    </tr>\n",
       "    <tr>\n",
       "      <th>BetaPriorPredctr</th>\n",
       "      <td>0.0563485</td>\n",
       "      <td>0.00693952</td>\n",
       "      <td>0.00636906</td>\n",
       "      <td>0.00678045</td>\n",
       "      <td>0.00736393</td>\n",
       "      <td>0.0529846</td>\n",
       "    </tr>\n",
       "    <tr>\n",
       "      <th>BetaPriorPredctr</th>\n",
       "      <td>NaN</td>\n",
       "      <td>NaN</td>\n",
       "      <td>NaN</td>\n",
       "      <td>NaN</td>\n",
       "      <td>NaN</td>\n",
       "      <td>NaN</td>\n",
       "    </tr>\n",
       "  </tbody>\n",
       "</table>\n",
       "</div>"
      ],
      "text/plain": [
       "                          0.000       0.300       0.500       0.667  \\\n",
       "MaxiLikeliPredctr           NaN         NaN         NaN         NaN   \n",
       "DiscrtPriorPredctr  1.22983e-18   0.0280742  0.00325072   0.0303582   \n",
       "DiscrtPriorPredctr  8.19885e-19   0.0170564   0.0216698   0.0208027   \n",
       "DiscrtPriorPredctr          0.5           0           0           0   \n",
       "DiscrtPriorPredctr    0.0909115  0.00903225   0.0090073  0.00903628   \n",
       "DiscrtPriorPredctr    0.0155655  0.00980296  0.00980296  0.00980296   \n",
       "BetaPriorPredctr     0.00990099  0.00990099  0.00990099  0.00990099   \n",
       "BetaPriorPredctr    5.33447e-05   0.0128259   0.0178762   0.0141058   \n",
       "BetaPriorPredctr      0.0563485  0.00693952  0.00636906  0.00678045   \n",
       "BetaPriorPredctr            NaN         NaN         NaN         NaN   \n",
       "\n",
       "                         0.750        0.999  \n",
       "MaxiLikeliPredctr          NaN          NaN  \n",
       "DiscrtPriorPredctr   0.0142947  2.12576e-17  \n",
       "DiscrtPriorPredctr  0.00898477  3.63209e-18  \n",
       "DiscrtPriorPredctr           0        0.475  \n",
       "DiscrtPriorPredctr  0.00896276    0.0800066  \n",
       "DiscrtPriorPredctr  0.00980296    0.0151145  \n",
       "BetaPriorPredctr    0.00990099   0.00990099  \n",
       "BetaPriorPredctr     0.0107185  5.74868e-05  \n",
       "BetaPriorPredctr    0.00736393    0.0529846  \n",
       "BetaPriorPredctr           NaN          NaN  "
      ]
     },
     "execution_count": 14,
     "metadata": {},
     "output_type": "execute_result"
    }
   ],
   "source": [
    "lk_df = pd.DataFrame(np.mean(likelihoods, axis = 2), \n",
    "             index = [printStr(r, 3) for r in true_rs], \n",
    "             columns = [str(a).split(' ', 1)[0] for a in predictors])\n",
    "lk_df.transpose()"
   ]
  },
  {
   "cell_type": "markdown",
   "metadata": {},
   "source": [
    "**Question 10** (1 point + 1 bonus point): Now analyse the results of your experiment. Answer at least the following questions:\n",
    "\n",
    "* For each combination of predictor and $r_\\text{true}$ that gives `inf` or `nan` loss, explain why the total loss isn't finite.\n",
    "\n",
    "* What are the strengths and weaknesses of the different predictors? In a situation where you don't know anything about $r_\\text{true}$ beforehand, which priors would you recommend, and which not?\n",
    "\n",
    "* BONUS: Look at the marginal likelihoods, say something about model selection\n",
    "\n",
    "You can accompany your answer by additional code that produces tables or figures."
   ]
  },
  {
   "cell_type": "markdown",
   "metadata": {},
   "source": [
    "**Answer 1:** When collapsing the **N** repeats in the 3rd dimensions into a 2 dimensional matrix, if there is a single entry in the repeat vector that is **Inf**, all values in the nominator of the average will be added to **Inf**, hence the mean of the third dimension will also be **Inf** in the 2 dimensional matrix. Since that's calculated as: $\\frac{1}{N}\\Sigma \\text{ losses}$. Infinity + something and then divided by N is still infinity. The same is true for NaNs.\n",
    "\n",
    "An entry in the repeat vector gets **Inf** in the cases of **r_hat** = 0 of **r_hat** = 1, and if a generate flip does not precisely match this probability of the coin. However, this is entirely possible, since the data is drawn from a binomial distribution, based on **r_true**. In the calculation of the loss, the log of **r_hat** = 0 or **r_hat** = 1, will result in **-Inf**; when multiplied with -1, will be **Inf** and adding the second term will be, for most values of the second term (e.g. not -infinite), still **Inf**. Hence the loss will be **Inf** for that **r_hat**.\n",
    "\n",
    "So, to restate, this occurs only if the predicted **r_hat** is either 0 or 1, *and* the generated test-data is not in accordance with that. For instance, not either only tails in the case of **r_hat** = 0; not only heads in the case of **r_hat** = 1.\n",
    "&nbsp;  \n",
    "\n",
    "**Answer 2: Predictability measure**. In answering this, we will keep in mind that we do not know anything about r_true. This means that it could be any value between 0 and 1.\n",
    "* A problem with the MaximumLikelihoodPredictor and BetaPriorPredictor is that when we predict **r_hat** to be either 0 or 1, we are likely to get a prediction that is not useful. This means using this approach is prone to sampling errors. Because only when the **r_true** is exactly 0 or 1, we can get a prediction for **r_hat** that gives **Inf** loss, but also when **r_true** is just close to 0! Since the closer it is to 0, the higher the chance that the training-set will be such that we predict **r_hat** = 0 or 1. Like, in this example we used an **r_true** of exactly 0, but you can easily make a symmetry-argument, and also verify in this code (which we did!) that if you use an r-true of 0.01 you also get **Inf**.\n",
    "* A disadvantage of the DiscretePriorPredictor is that it gives unusable predictions for one of the initialisations. As we will elaborate on a bit further, this could be avoided by (slightly) different initialisation.\n",
    "\n",
    "The predictors could give Nan or Inf as prediction, which is neither useful for prediction nor does it correspond with real-life situations. However, all predictors, expect for the MaximumLiklihoodPredictor, can be initialized with different values of **r_hat** (thus different liklihoods for tails and heads), which are able to give reasonable values (or non-infinite and nan values). Thus, the discrete and the beta predictors with the overall lowest regret’s and largest marginals across all r, would be the most suitable priors. More specifically: \n",
    "* For instance DiscretePriorPredictor 2 has the lowest marginals for almost all values of **r_true**, expect for its most extreme values, which however are very unlikely, if not, realistically impossible to have in a two sided coin (e.g. that should been only one surface). The loss and regret are only very low (and applicable) for those extreme values. Similarly, its 'Beta-equivalent', BetaPriorPredictor 3, does a better job in fitting the prior to the data when **r_true** has ideal extreme values (the marginal liklihood is higher and the loss is lower for those values), while fitting less well for other values of r. When there are strong indications that **r_true** is ultimately biased (close to 0 or 1; hence not knowing the direction of the bias), both priors can representat this belief, with the BetaPriorPrediction 3 being somewhat off and the DiscretePriorPrediction 2 being not applicable, if there are no such strong a priori indications for extreme probability of **r_true**. Therefore, the BetaPriorPredictor 3 is preferred over the DiscretePriorPredictor 2, since it can make prediction for other values of r (they do not have to match exactly the most extreme values), albeit fitting the data less well than other prior beliefs.\n",
    "* Unlike DiscretePriorPredictor 2, most models (thus expect for the homogenous ones and the 3 DiscretePriorPredictor) do not fit well when **r_true** has those ideal extreme values (the marginal likelihood is very low at those values). The BetaPriorPredictor 2 is a roughly similar to a normal distribution, hence the marginal likelihood is the highest for intermediate values of **r_true** than for the extreme values. Similarly, the DescretePriorPrediction 1 and 2 fit the data well for the intermediate values of **r_true**, with an overall better performance in terms of data fit, loss and regret DescretePriorPrediction 2 (especially if the coin is fair) and a somewhat better performance for DescretePriorPrediction 1 when it is expected that **true_r** is slightly biased towards either side (1/3 and 2/3). Theoretically and realistically those priors could be considered the most reasonable ones, if the prior belief is that the coin is fair (eventually excluding DescretePriorPrediction 1) or when there is somewhat bias involved in any direction. They are not suitable if there are strong indications for heavy bias (BetaPriorPredictor 3 would be a better choice)\n",
    "* The homogenous models (DiscretePriorPredictor 4 and 5 and BetaPriorPredictor 1) all fit the data equally bad, with very low marginal likelihood at every value of r. With respect to the model loss and marginal likelihood the DiscretePriorPredictors they tend to do better for **r_hat** having ideally extreme values of 0 and 1; DiscretePriorPredictor 4 has a ‘coarser’ distribution than 5 and tends to perform better.  This makes only sense when there is extremely limited knowledge about **r_true** whatsoever.\n",
    "* The BetaPriorPredictor 4, can be theoretically and practically problematic, since it does satisfy the constraints for being a proper Beta prior. Although its numerical representations in loss and regret are comparable to the other models, the model fit to the data cannot be assesed, since this this degenerated prior lacks its normalizaion constant. There is uncertainty whether the posterior of the BetaPriorPredictor 4 becomes a proper distribution. This prior does not perform better than the others and given its drawbacks can better be avoided.\n",
    "\n",
    "Concluding, the MaximumLiklihoodPredictor, DescretePriorPredictor 3 and BetaPriorPredictor are not recommended, while the usefulness of the other predictors depend on the belief of how strongly the coin is biased or fair, with DescretePriorPredictor 2 being the most recommended choice (unless there are strong beliefs that the coin is heavily biased, then the choice would fall on BetaPrior Prediction 3). Although if absolutely nothing is known about **r_true** (lacking any indication) the best choice might probably be the homogenous DiscretePriorPredictor 4."
   ]
  },
  {
   "cell_type": "markdown",
   "metadata": {},
   "source": [
    "    \n",
    "---\n",
    "\n",
    "<br>\n",
    "<br>"
   ]
  },
  {
   "cell_type": "markdown",
   "metadata": {},
   "source": [
    "**Remember: Before you submit, click Kernel > Restart & Run All to make sure you submit a working version of your code!**<br/>\n",
    "**Also remove our hints/comments from your code**"
   ]
  }
 ],
 "metadata": {
  "kernelspec": {
   "display_name": "Python 3",
   "language": "python",
   "name": "python3"
  },
  "language_info": {
   "codemirror_mode": {
    "name": "ipython",
    "version": 3
   },
   "file_extension": ".py",
   "mimetype": "text/x-python",
   "name": "python",
   "nbconvert_exporter": "python",
   "pygments_lexer": "ipython3",
   "version": "3.6.13"
  },
  "toc": {
   "base_numbering": 1,
   "nav_menu": {},
   "number_sections": true,
   "sideBar": true,
   "skip_h1_title": false,
   "title_cell": "Table of Contents",
   "title_sidebar": "Contents",
   "toc_cell": false,
   "toc_position": {},
   "toc_section_display": true,
   "toc_window_display": true
  }
 },
 "nbformat": 4,
 "nbformat_minor": 1
}
