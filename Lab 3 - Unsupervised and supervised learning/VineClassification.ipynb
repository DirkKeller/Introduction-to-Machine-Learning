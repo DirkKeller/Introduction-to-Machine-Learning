{
 "cells": [
  {
   "cell_type": "markdown",
   "metadata": {
    "collapsed": false
   },
   "source": [
    "# Assignment 3\n",
    "\n",
    "*Part of the course:\n",
    "Machine Learning (code: INFOB3ML), fall 2021, Utrecht University*\n",
    "\n",
    "Total points: 9 (+ 1 for free)\n",
    "\n",
    "Submit one ipynb file per pair.\n",
    "\n",
    "**Before you submit, click Kernel > Restart & Run All to make sure you submit a working version of your code!**"
   ]
  },
  {
   "cell_type": "markdown",
   "metadata": {
    "collapsed": false
   },
   "source": [
    "## General\n",
    "This is a largely freeform project, where you will implement and use several machine learning methods you've seen during this course, and write a report on your results."
   ]
  },
  {
   "cell_type": "code",
   "execution_count": 96,
   "metadata": {
    "collapsed": false
   },
   "outputs": [
   ],
   "source": [
    "import numpy\n",
    "import numpy as np\n",
    "import random\n",
    "import scipy\n",
    "import copy\n",
    "import math\n",
    "import pandas as pd\n",
    "import matplotlib.pyplot as plt\n",
    "import matplotlib.cm\n",
    "\n",
    "import cProfile\n",
    "import sklearn.model_selection\n",
    "from scipy.spatial import distance\n",
    "from itertools import cycle"
   ]
  },
  {
   "cell_type": "markdown",
   "metadata": {
    "collapsed": false
   },
   "source": [
    "## Implement K-means\n",
    "\n",
    "**Task:** *(2 points)* Complete the function below to carry out the K-means clustering algorithm.\n",
    "\n",
    "The function takes two arguments:\n",
    "\n",
    "* A data matrix `X`. Your function should be able to handle any number of data points (rows) and any number of real-valued features (columns);\n",
    "\n",
    "* The number of clusters `K`.\n",
    "\n",
    "The function should return two things:\n",
    "\n",
    "* A numpy array `mu` with the cluster centroids. It should have `K` rows, each describing of the `K` clusters, and a number of columns equal to the number of features;\n",
    "\n",
    "* A list (or numpy array if you prefer) `assigned_to`, containing one element for each data point. The value of the element is the index of the cluster that data point is assigned to. The indices should correspond to those of the rows of `mu`, so they should be between `0` and `K-1`.\n",
    "\n",
    "There are different ways to initialise the algorithm, and you can pick one you like. This step should involve some randomness, so that if you run the algorithm repeatedly, you have a chance of getting a different clustering every time."
   ]
  },
  {
   "cell_type": "code",
   "execution_count": 99,
   "metadata": {
    "collapsed": false,
    "scrolled": true
   },
   "outputs": [
   ],
   "source": [
    "def get_closest_centroids(X, mu, return_D, debug):\n",
    "    \"\"\"\n",
    "    We first make a matrix, with in it for each centroid a matrix, that holds, for each datapoint,\n",
    "    the distance to each dimension of the centroid of the current cluster. An example for N=3, 4 features, k=2, would be:\n",
    "    [\n",
    "     [ [1, 1.5, 2, 2.5],\n",
    "       [2, 2.5, 3, 3.5],\n",
    "       [3, 3.5, 4, 4.5] ],\n",
    "\n",
    "     [ [1, 2, 3, 4], <- datapoint_1 has a distance of 1+2+3+4=10 to the second centroid\n",
    "       [3, 4, 5, 6],\n",
    "       [6, 7, 8, 9] ]\n",
    "    ]\n",
    "    \"\"\"\n",
    "    distances_all_dims = np.sqrt(((X - mu[:, np.newaxis])**2))\n",
    "\n",
    "    # Now for each datapoint, we sum its distance to each centroid-dimension, and ask for the argmin\n",
    "    distances = distances_all_dims.sum(axis=2)\n",
    "\n",
    "    # Now we can return a Nx1-matrix with the closest centroids.\n",
    "    return numpy.argmin(distances, axis=0)\n",
    "\n",
    "def move_centroids(datapoints, assigned_to, old_centroids, debug):\n",
    "    # For each cluster, the mean of its datapoints is the new centroid\n",
    "    new_centroids = []\n",
    "\n",
    "    for k in range(old_centroids.shape[0]): # This range is just the number of clusters\n",
    "        cluster_k = datapoints[assigned_to==k]\n",
    "\n",
    "        # Check if the cluster isn't empty, then calculate new centroid. If it is, keep the old centroid.\n",
    "        if (cluster_k.size != 0):\n",
    "            new_centroids.append(cluster_k.mean(axis=0))\n",
    "        else:\n",
    "            new_centroids.append(old_centroids[k])\n",
    "\n",
    "    return numpy.array(new_centroids) # Return k*dims-array of centroid coordinates\n",
    "\n",
    "def calculate_D(X, mu, assigned_to):\n",
    "    \"\"\"\n",
    "    For each cluster, calculate the sum of squared distances from the datapoint to the mean (= total_D).\n",
    "    Takes in the data as numpy array (matrix), mu as 1*k array of 1*n_feature means, and assigned to as an 1 x N array.\n",
    "    Returns the value of D.\n",
    "    \"\"\"\n",
    "    total_D = 0\n",
    "\n",
    "    for k, mu_k in enumerate(mu): # Calculate D per cluster\n",
    "        cluster_k = X[assigned_to == k] # Subset the current cluster\n",
    "\n",
    "        curr_D = np.sum((cluster_k - mu_k)**2)\n",
    "        total_D += curr_D\n",
    "\n",
    "    return total_D\n",
    "\n",
    "def k_means_vec(X, k, return_D=False, debug=False):\n",
    "    # Initialize centroid & cluster vector\n",
    "    mu = X[numpy.random.choice(X.shape[0], k, replace=False), :] # Choose k random datapoints as starting means\n",
    "    pre_mu = numpy.zeros_like(mu) # Make an empty container to copy mu\n",
    "    closest_centroids = numpy.full((X.shape[0],), 0) # Container for the centroids\n",
    "\n",
    "    if debug:\n",
    "        print(f\"mu={mu} \\npre_mu={pre_mu} \\nclosest_centroids={closest_centroids}\\n\")\n",
    "\n",
    "    count=0\n",
    "\n",
    "    while not numpy.array_equal(mu, pre_mu):\n",
    "        # First save the current mu, such that we can compare it again, after it has changed\n",
    "        pre_mu = copy.deepcopy(mu)\n",
    "\n",
    "        if debug:\n",
    "            print(\"iter:\",count); count+=1;\n",
    "\n",
    "        # Calculate for each datapoint, its closest centroid\n",
    "        assigned_to = get_closest_centroids(X, mu, return_D, debug)\n",
    "\n",
    "        if debug:\n",
    "            print(f\"assigned_to={assigned_to}, with shape {assigned_to.shape}\")\n",
    "\n",
    "        # Now we update the centroids, by taking the mean for the updated closests points\n",
    "        mu = move_centroids(X, assigned_to, mu, debug)\n",
    "\n",
    "    # Return results\n",
    "    if return_D:\n",
    "        return mu, assigned_to, calculate_D(X, mu, assigned_to)\n",
    "    return mu, assigned_to"
   ]
  },
  {
   "cell_type": "markdown",
   "metadata": {
    "collapsed": false
   },
   "source": [
    "To test if your function is working well, you can run it on the following simulated data."
   ]
  },
  {
   "cell_type": "code",
   "execution_count": 100,
   "metadata": {
    "collapsed": false,
    "scrolled": true
   },
   "outputs": [
    {
     "name": "stdout",
     "output_type": "stream",
     "text": [
      "mu [[ 1.14999481  3.12902341]\n",
      " [-0.06448773  0.05613906]] \n",
      "\n",
      "z [1 1 1 0 1 1 1 1 1 1 1 1 0 1 1 0 1 1 1 1 1 1 1 1 1 1 1 1 1 1 1 1 1 1 1 1 0\n",
      " 1 1 1 1 1 1 1 1 1 1 1 1 1 0 0 0 0 0 1 0 0 0 0 0 0 1 0 0 0 0 0 0 0 0 0 0 1\n",
      " 0 0 0 0 0 0 0 0 1 0 0 0 0 0 0 0 0 0 0 0 0 0 0 0 0 1] \n",
      "\n",
      "D 188.25156844613286 \n",
      "\n"
     ]
    },
    {
     "data": {
      "image/png": "[encoded data removed]"
     },
     "execution_count": 100,
     "metadata": {
     },
     "output_type": "execute_result"
    }
   ],
   "source": [
    "X_simulated = numpy.random.normal(0, 1, (100, 2))\n",
    "X_simulated[50:,:] += [1, 3] # Move points 50 through 99 to be centred on (1,3).\n",
    "example_k = 2\n",
    "\n",
    "mu, z, D = k_means_vec(X_simulated, example_k, return_D = True, debug=False)\n",
    "print(\"mu\",mu,\"\\n\")\n",
    "print(\"z\", z, \"\\n\")\n",
    "print(\"D\", D, \"\\n\")\n",
    "\n",
    "for k in range(example_k):\n",
    "    plt.scatter(X_simulated[z == k, 0], X_simulated[z == k, 1], cmap='viridis')\n",
    "    plt.scatter(mu[k, 0], mu[k, 1], c = 'black', s = 150, alpha = 0.5)\n",
    "plt.show()"
   ]
  },
  {
   "cell_type": "markdown",
   "metadata": {
    "collapsed": false
   },
   "source": [
    "## Data preprocessing\n",
    "\n",
    "**Task: Pick a dataset.** *(1 point)* Find a dataset that you find interesting to analyse. Some properties:\n",
    "\n",
    "* It should be a supervised learning problem, either regression or classification (in other words: there should be some label that must be predicted based on features, and this label can be real-valued or discrete);\n",
    "\n",
    "* It shouldn't be too big, so the computation times don't become annoying;\n",
    "\n",
    "* It should have say 5~10 numeric features. A feature is called \"numeric\" if its values really represent numbers. Sometimes non-numeric information is encoded as numbers (e.g., yes=1, no=2, not sure=3). Then doing things like computing differences or averages of those numbers doesn't really mean anything. So such features are not considered numeric. (If your data also has non-numeric features, we'll ignore those.)\n",
    "\n",
    "Example website with many data sets: http://archive.ics.uci.edu/ml/index.php\n",
    "\n",
    "Write code to load your dataset from a file in the same folder as your notebook. (Include that file with your notebook when submitting your assignment.)\n",
    "\n",
    "If your data includes non-numeric features, have your code remove those after loading.\n",
    "\n",
    "In the text cell below, give a (very brief) description of the data: what is it about, what does the label mean and what are its possible values, how many numeric features does it have, what is the source of your data?"
   ]
  },
  {
   "cell_type": "code",
   "execution_count": 5,
   "metadata": {
    "collapsed": false
   },
   "outputs": [
    {
     "data": {
      "text/html": [
       "<div>\n",
       "<style scoped>\n",
       "    .dataframe tbody tr th:only-of-type {\n",
       "        vertical-align: middle;\n",
       "    }\n",
       "\n",
       "    .dataframe tbody tr th {\n",
       "        vertical-align: top;\n",
       "    }\n",
       "\n",
       "    .dataframe thead th {\n",
       "        text-align: right;\n",
       "    }\n",
       "</style>\n",
       "<table border=\"1\" class=\"dataframe\">\n",
       "  <thead>\n",
       "    <tr style=\"text-align: right;\">\n",
       "      <th></th>\n",
       "      <th>fixed acidity</th>\n",
       "      <th>volatile acidity</th>\n",
       "      <th>citric acid</th>\n",
       "      <th>residual sugar</th>\n",
       "      <th>chlorides</th>\n",
       "      <th>free sulfur dioxide</th>\n",
       "      <th>total sulfur dioxide</th>\n",
       "      <th>density</th>\n",
       "      <th>pH</th>\n",
       "      <th>sulphates</th>\n",
       "      <th>alcohol</th>\n",
       "      <th>quality</th>\n",
       "    </tr>\n",
       "  </thead>\n",
       "  <tbody>\n",
       "    <tr>\n",
       "      <th>0</th>\n",
       "      <td>7.0</td>\n",
       "      <td>0.27</td>\n",
       "      <td>0.36</td>\n",
       "      <td>20.7</td>\n",
       "      <td>0.045</td>\n",
       "      <td>45.0</td>\n",
       "      <td>170.0</td>\n",
       "      <td>1.0010</td>\n",
       "      <td>3.00</td>\n",
       "      <td>0.45</td>\n",
       "      <td>8.8</td>\n",
       "      <td>6</td>\n",
       "    </tr>\n",
       "    <tr>\n",
       "      <th>1</th>\n",
       "      <td>6.3</td>\n",
       "      <td>0.30</td>\n",
       "      <td>0.34</td>\n",
       "      <td>1.6</td>\n",
       "      <td>0.049</td>\n",
       "      <td>14.0</td>\n",
       "      <td>132.0</td>\n",
       "      <td>0.9940</td>\n",
       "      <td>3.30</td>\n",
       "      <td>0.49</td>\n",
       "      <td>9.5</td>\n",
       "      <td>6</td>\n",
       "    </tr>\n",
       "    <tr>\n",
       "      <th>2</th>\n",
       "      <td>8.1</td>\n",
       "      <td>0.28</td>\n",
       "      <td>0.40</td>\n",
       "      <td>6.9</td>\n",
       "      <td>0.050</td>\n",
       "      <td>30.0</td>\n",
       "      <td>97.0</td>\n",
       "      <td>0.9951</td>\n",
       "      <td>3.26</td>\n",
       "      <td>0.44</td>\n",
       "      <td>10.1</td>\n",
       "      <td>6</td>\n",
       "    </tr>\n",
       "    <tr>\n",
       "      <th>3</th>\n",
       "      <td>7.2</td>\n",
       "      <td>0.23</td>\n",
       "      <td>0.32</td>\n",
       "      <td>8.5</td>\n",
       "      <td>0.058</td>\n",
       "      <td>47.0</td>\n",
       "      <td>186.0</td>\n",
       "      <td>0.9956</td>\n",
       "      <td>3.19</td>\n",
       "      <td>0.40</td>\n",
       "      <td>9.9</td>\n",
       "      <td>6</td>\n",
       "    </tr>\n",
       "    <tr>\n",
       "      <th>4</th>\n",
       "      <td>7.2</td>\n",
       "      <td>0.23</td>\n",
       "      <td>0.32</td>\n",
       "      <td>8.5</td>\n",
       "      <td>0.058</td>\n",
       "      <td>47.0</td>\n",
       "      <td>186.0</td>\n",
       "      <td>0.9956</td>\n",
       "      <td>3.19</td>\n",
       "      <td>0.40</td>\n",
       "      <td>9.9</td>\n",
       "      <td>6</td>\n",
       "    </tr>\n",
       "  </tbody>\n",
       "</table>\n",
       "</div>"
      ]
     },
     "execution_count": 5,
     "metadata": {
     },
     "output_type": "execute_result"
    }
   ],
   "source": [
    "data_set = pd.read_csv(r'winequality-white.csv', sep=';', header = 0)\n",
    "data_set.head()"
   ]
  },
  {
   "cell_type": "code",
   "execution_count": 6,
   "metadata": {
    "collapsed": false,
    "scrolled": true
   },
   "outputs": [
   ],
   "source": [
    "# We save and then delete the wine quality feature. This will be effectively used as \"label\" later on.\n",
    "label_set = data_set['quality']\n",
    "data_set1 = data_set.drop(['quality'], axis = 1)"
   ]
  },
  {
   "cell_type": "code",
   "execution_count": 7,
   "metadata": {
    "collapsed": false
   },
   "outputs": [
   ],
   "source": [
    "# import pandas_profiling\n",
    "# pandas_profiling.ProfileReport(data_set_clean)"
   ]
  },
  {
   "cell_type": "markdown",
   "metadata": {
    "collapsed": false
   },
   "source": [
    "*Your description of the data here*\n",
    "\n",
    "## To do"
   ]
  },
  {
   "cell_type": "markdown",
   "metadata": {
    "collapsed": false
   },
   "source": [
    "In some datasets, the different features may represent completely different things, each measured in their own way. If one feature has very large values while another has only very small ones, this may have an impact on the results of certain machine learning algorithms. K-means for example measures distances between data points, but if one feature has values in the thousands and another has values between 0 and 1, the second feature would effectively end up being ignored. This is often undesirable. Some data preprocessing is the necessary to avoid this effect.\n",
    "\n",
    "**Task: Normalise the dataset.** *(0.5 point)* Divide each numerical feature by its standard deviation. By doing this, each numeric feature in the normalised dataset will have variance 1. As a result, all features will now live in a comparable range, and all will play a role in distance computations."
   ]
  },
  {
   "cell_type": "markdown",
   "metadata": {
    "collapsed": false
   },
   "source": [
    "**Explaination**  \n",
    "Before normalising, we realise we might encounter the issue of missing/NaN values. We choose not to delete these rows, as deleting data is generally frowned upon, and we saw no reason to throw away the rest of the rows. Instead, we choose to do an estimate/approximation, by filling all NaN values with the average of the column. We do this before normalising, because we want the \"interpolated\" datapoints to be taken into account for the standard deviation."
   ]
  },
  {
   "cell_type": "code",
   "execution_count": 8,
   "metadata": {
    "collapsed": false
   },
   "outputs": [
    {
     "data": {
      "text/plain": [
       "fixed acidity           0\n",
       "volatile acidity        0\n",
       "citric acid             0\n",
       "residual sugar          0\n",
       "chlorides               0\n",
       "free sulfur dioxide     0\n",
       "total sulfur dioxide    0\n",
       "density                 0\n",
       "pH                      0\n",
       "sulphates               0\n",
       "alcohol                 0\n",
       "quality                 0\n",
       "dtype: int64"
      ]
     },
     "execution_count": 8,
     "metadata": {
     },
     "output_type": "execute_result"
    }
   ],
   "source": [
    "data_set.isna().sum()"
   ]
  },
  {
   "cell_type": "markdown",
   "metadata": {
    "collapsed": false
   },
   "source": [
    "But, our data doesn't contain any NaN values! "
   ]
  },
  {
   "cell_type": "code",
   "execution_count": 9,
   "metadata": {
    "collapsed": false
   },
   "outputs": [
    {
     "data": {
      "text/html": [
       "<div>\n",
       "<style scoped>\n",
       "    .dataframe tbody tr th:only-of-type {\n",
       "        vertical-align: middle;\n",
       "    }\n",
       "\n",
       "    .dataframe tbody tr th {\n",
       "        vertical-align: top;\n",
       "    }\n",
       "\n",
       "    .dataframe thead th {\n",
       "        text-align: right;\n",
       "    }\n",
       "</style>\n",
       "<table border=\"1\" class=\"dataframe\">\n",
       "  <thead>\n",
       "    <tr style=\"text-align: right;\">\n",
       "      <th></th>\n",
       "      <th>fixed acidity</th>\n",
       "      <th>volatile acidity</th>\n",
       "      <th>citric acid</th>\n",
       "      <th>residual sugar</th>\n",
       "      <th>chlorides</th>\n",
       "      <th>free sulfur dioxide</th>\n",
       "      <th>total sulfur dioxide</th>\n",
       "      <th>density</th>\n",
       "      <th>pH</th>\n",
       "      <th>sulphates</th>\n",
       "      <th>alcohol</th>\n",
       "    </tr>\n",
       "  </thead>\n",
       "  <tbody>\n",
       "    <tr>\n",
       "      <th>0</th>\n",
       "      <td>8.295134</td>\n",
       "      <td>2.678716</td>\n",
       "      <td>2.974720</td>\n",
       "      <td>4.081184</td>\n",
       "      <td>2.059688</td>\n",
       "      <td>2.645948</td>\n",
       "      <td>4.000182</td>\n",
       "      <td>334.681094</td>\n",
       "      <td>19.867471</td>\n",
       "      <td>3.943016</td>\n",
       "      <td>7.150864</td>\n",
       "    </tr>\n",
       "    <tr>\n",
       "      <th>1</th>\n",
       "      <td>7.465621</td>\n",
       "      <td>2.976351</td>\n",
       "      <td>2.809458</td>\n",
       "      <td>0.315454</td>\n",
       "      <td>2.242771</td>\n",
       "      <td>0.823184</td>\n",
       "      <td>3.106024</td>\n",
       "      <td>332.340667</td>\n",
       "      <td>21.854218</td>\n",
       "      <td>4.293506</td>\n",
       "      <td>7.719682</td>\n",
       "    </tr>\n",
       "    <tr>\n",
       "      <th>2</th>\n",
       "      <td>9.598655</td>\n",
       "      <td>2.777928</td>\n",
       "      <td>3.305244</td>\n",
       "      <td>1.360395</td>\n",
       "      <td>2.288542</td>\n",
       "      <td>1.763965</td>\n",
       "      <td>2.282457</td>\n",
       "      <td>332.708449</td>\n",
       "      <td>21.589318</td>\n",
       "      <td>3.855394</td>\n",
       "      <td>8.207241</td>\n",
       "    </tr>\n",
       "    <tr>\n",
       "      <th>3</th>\n",
       "      <td>8.532138</td>\n",
       "      <td>2.281869</td>\n",
       "      <td>2.644195</td>\n",
       "      <td>1.675848</td>\n",
       "      <td>2.654709</td>\n",
       "      <td>2.763546</td>\n",
       "      <td>4.376670</td>\n",
       "      <td>332.875622</td>\n",
       "      <td>21.125744</td>\n",
       "      <td>3.504903</td>\n",
       "      <td>8.044722</td>\n",
       "    </tr>\n",
       "    <tr>\n",
       "      <th>4</th>\n",
       "      <td>8.532138</td>\n",
       "      <td>2.281869</td>\n",
       "      <td>2.644195</td>\n",
       "      <td>1.675848</td>\n",
       "      <td>2.654709</td>\n",
       "      <td>2.763546</td>\n",
       "      <td>4.376670</td>\n",
       "      <td>332.875622</td>\n",
       "      <td>21.125744</td>\n",
       "      <td>3.504903</td>\n",
       "      <td>8.044722</td>\n",
       "    </tr>\n",
       "  </tbody>\n",
       "</table>\n",
       "</div>"
      ]
     },
     "execution_count": 9,
     "metadata": {
     },
     "output_type": "execute_result"
    }
   ],
   "source": [
    "# If nan's would exist, we could use the following: data_set1.fillna(data_set1.mean())\n",
    "\n",
    "# Now, we may normalise the data by dividing each feature by its standard deviation\n",
    "data_set_norm = data_set1 / data_set1.std()\n",
    "data_set_norm.head()"
   ]
  },
  {
   "cell_type": "markdown",
   "metadata": {
    "collapsed": false
   },
   "source": [
    "We also get the z-score normalised dataset, which is rather similar to dividing by the standard deviation, but in addition we also subtract the mean of each column before dividing."
   ]
  },
  {
   "cell_type": "code",
   "execution_count": 92,
   "metadata": {
    "collapsed": false
   },
   "outputs": [
   ],
   "source": [
    "from scipy.stats import zscore\n",
    "data_set_zscore = data_set1.apply(zscore)\n",
    "#data_set_zscore.head()"
   ]
  },
  {
   "cell_type": "markdown",
   "metadata": {
    "collapsed": false
   },
   "source": [
    "## Explore your data using unsupervised learning\n",
    "\n",
    "Your goal with the data is to solve a supervised learning problem. But unsupervised learning can be a useful first step: it can help to give you a better idea of what the data \"looks like\", and it can help to select relevant features for use in a later supervised learning step.\n",
    "\n",
    "In these steps, only use the features, not the label.\n",
    "\n",
    "**Task: Explore the data using K-means.** *(1.5 points)* Try out a range of values for `K`. Make a plot similar to the one in Figure 6.3 in the book. The discuss the question: what seems to be a reasonable number of clusters for your data?"
   ]
  },
  {
   "cell_type": "markdown",
   "metadata": {
    "collapsed": false
   },
   "source": [
    "Now we explore how different values of K influence the performance of the clustering. We do this by plotting $\\log D$ against $k$, for 50 iterations of the algorithm (thus also 50 random initialisations)."
   ]
  },
  {
   "cell_type": "code",
   "execution_count": 12,
   "metadata": {
    "collapsed": false
   },
   "outputs": [
   ],
   "source": [
    "def k_means_logD_runner(X: 'data', k_range: 'range-object', n_runs: 'runs per k', progress_debug=True, debug=False\n",
    "                        ) -> '{k1:[logD1, logD2,..], k2:[]...}':\n",
    "\n",
    "    D_dict = {} # This dict will contain for each k, the values of D for all 50 runs. \n",
    "\n",
    "    if progress_debug:\n",
    "        highest_k = max(k_range)\n",
    "\n",
    "    for k in k_range:\n",
    "        if progress_debug:\n",
    "            print(f\"Calculation for k={k} out of k={highest_k} started.\")\n",
    "\n",
    "        D_dict[k] = [] # Initialise a list which will contain a n_runs amount of logD-values\n",
    "\n",
    "        for run_i in range(n_runs): # Run K-means 50 times\n",
    "            mu, assigned_to, curr_D = k_means_vec(data_set_norm_numpy, k, return_D=True, debug=False)\n",
    "            D_dict[k].append(math.log(curr_D)) # We want to store the log of this value\n",
    "\n",
    "    return D_dict"
   ]
  },
  {
   "cell_type": "code",
   "execution_count": 13,
   "metadata": {
    "collapsed": false
   },
   "outputs": [
    {
     "data": {
      "image/png": "[encoded data removed]"
     },
     "execution_count": 13,
     "metadata": {
      "needs_background": "light"
     },
     "output_type": "execute_result"
    }
   ],
   "source": [
    "# Convert to numpy array to make it work with the K-means function\n",
    "data_set_norm_numpy = data_set_norm.to_numpy()\n",
    "\n",
    "# Run algorithm and obtain logD values\n",
    "D_dict = k_means_logD_runner(data_set_norm_numpy, range(1,11), n_runs=10, progress_debug=False, debug=False)\n",
    "\n",
    "# Plot the result of each run as boxplot\n",
    "fig2, ax2 = plt.subplots()\n",
    "ax2.boxplot(list(D_dict.values()), labels=list(D_dict.keys()));"
   ]
  },
  {
   "cell_type": "markdown",
   "metadata": {
    "collapsed": false
   },
   "source": [
    "**Choosing k**  \n",
    "Now we can choose a value of of k that we find most suitable for the data. We do so with the \"elbow method\"; pick the k value where the plot displays a nick/bend/elbow. This is rather open for intepretation as the plot does not have such a clear elbow. In fact, the range from 2 to 6 is almost linear. An interpretation of this is that there is no point where adding an extra cluster adds significatly less clustering performance than before. Extra clusters always make the results \"a bit\" better. That being said, we choose k=6, for two reasons. First because after k=6 the linearity clearly disappears. Second, k=6 is the first value for k when the logD calculation become more of a precise estimate around the mean; those before had a lot of outliers. Additionally, there is a point to be made about the distribution of the actual labels. The actual given marks range from 3 to 9; that's 7 marks. There however are very few 3's anyway (or, very few 9s, depending on how you look at it), so we could lump those in. So, k=6 could for example represent grade 3/4 and below, 5 through 8, and 9 and up. Or we could choose k=7; one could well be as good as the other. (I say this because I feel like there is some degree of arbitrainess involved in picking the value for k no matter how you look at it.)"
   ]
  },
  {
   "cell_type": "markdown",
   "metadata": {
    "collapsed": false
   },
   "source": [
    "**Evaluating clusters for chosen k**  \n"
   ]
  },
  {
   "cell_type": "code",
   "execution_count": 34,
   "metadata": {
    "collapsed": false
   },
   "outputs": [
   ],
   "source": [
    "all_assigned_to = [] # Will contain n_runs numpy arrays with the assigned clusters\n",
    "total_quality_counts = {k : np.array([0.0 for _ in range(1, 11)]) for k in range(6)}  # Will contain per cluster, a list with counts of each quality grade. E.g. {1: [0,0,3,5,10,6,3,1,0], ...}\n",
    "\n",
    "# Run k-means\n",
    "mu, assigned_to = k_means_vec(data_set_norm_numpy, k=6, return_D=False)\n",
    "\n",
    "for k in range(6): # For each cluster,\n",
    "    cluster_labels = label_set[assigned_to==k] # subset the data,\n",
    "    curr_quality_counts = np.bincount(cluster_labels, minlength = 11) # Get counts of each grade (0 through 10, works for pos ints\n",
    "    curr_quality_counts = curr_quality_counts[1:] # Since this counts 0 as a grade, and that's not possible, we splice it off\n",
    "    curr_quality_counts = curr_quality_counts / len(label_set) # Now we calculate the fraction\n",
    "\n",
    "    total_quality_counts[k] += curr_quality_counts"
   ]
  },
  {
   "cell_type": "code",
   "execution_count": 88,
   "metadata": {
    "collapsed": false
   },
   "outputs": [
    {
     "data": {
      "image/png": "[encoded data removed]"
     },
     "execution_count": 88,
     "metadata": {
     },
     "output_type": "execute_result"
    }
   ],
   "source": [
    "fig_keval, axs_keval = plt.subplots(nrows=1, ncols=6, figsize=(13,3), sharex=True, sharey=True)\n",
    "prop_cycle = plt.rcParams['axes.prop_cycle']\n",
    "colors = cycle(prop_cycle.by_key()['color'])\n",
    "\n",
    "for k in range(6):\n",
    "    axs_keval[k].bar(x=[i for i in range(10)], height=(total_quality_counts[k]), # Plot the average count, as a fraction of the total\n",
    "                    tick_label=[str(i) for i in range(1,11)], color=next(colors)) # Force cycling to the k-th color of the (default) cmap\n",
    "\n",
    "fig_keval.suptitle(\"Fraction of each grade out of the total grades per cluster\", fontsize=14)\n",
    "fig_keval.show()\n",
    "matplotlib.rcParams.update(matplotlib.rcParamsDefault)"
   ]
  },
  {
   "cell_type": "markdown",
   "metadata": {
    "collapsed": false
   },
   "source": [
    "**Conclusions of K-means clustering**  \n",
    "to do"
   ]
  },
  {
   "cell_type": "code",
   "execution_count": 0,
   "metadata": {
    "collapsed": false
   },
   "outputs": [
   ],
   "source": [
   ]
  },
  {
   "cell_type": "code",
   "execution_count": 0,
   "metadata": {
    "collapsed": false
   },
   "outputs": [
   ],
   "source": [
   ]
  },
  {
   "cell_type": "code",
   "execution_count": 0,
   "metadata": {
    "collapsed": false
   },
   "outputs": [
   ],
   "source": [
   ]
  },
  {
   "cell_type": "code",
   "execution_count": 16,
   "metadata": {
    "collapsed": false,
    "scrolled": true
   },
   "outputs": [
   ],
   "source": [
    "# K_un = 5\n",
    "# mu_un, z_un = K_means_debug(data_set_norm_numpy, K_un)\n",
    "\n",
    "# for k in range(K_un):\n",
    "#     plt.scatter(data_set_norm_numpy[z_un == k, 0], data_set_norm_numpy[z_un == k, 1], cmap='viridis', alpha=0.4)\n",
    "#     plt.scatter(mu_un[k, 0], mu_un[k, 1], c = 'black', s = 150, alpha = 0.9)\n",
    "# plt.xlim([0,8])\n",
    "# plt.ylim([0,6])\n",
    "# plt.show()"
   ]
  },
  {
   "cell_type": "code",
   "execution_count": 17,
   "metadata": {
    "collapsed": false,
    "scrolled": true
   },
   "outputs": [
    {
     "ename": "NameError",
     "evalue": "name 'z_un' is not defined",
     "output_type": "error",
     "traceback": [
      "\u001b[0;31m---------------------------------------------------------------------------\u001b[0m",
      "\u001b[0;31mNameError\u001b[0m                                 Traceback (most recent call last)",
      "\u001b[0;32m<ipython-input-17-91e8a681e9af>\u001b[0m in \u001b[0;36m<module>\u001b[0;34m\u001b[0m\n\u001b[1;32m     10\u001b[0m         \u001b[0mcolors\u001b[0m \u001b[0;34m=\u001b[0m \u001b[0mplt\u001b[0m\u001b[0;34m.\u001b[0m\u001b[0mrcParams\u001b[0m\u001b[0;34m[\u001b[0m\u001b[0;34m\"axes.prop_cycle\"\u001b[0m\u001b[0;34m]\u001b[0m\u001b[0;34m.\u001b[0m\u001b[0mby_key\u001b[0m\u001b[0;34m(\u001b[0m\u001b[0;34m)\u001b[0m\u001b[0;34m[\u001b[0m\u001b[0;34m\"color\"\u001b[0m\u001b[0;34m]\u001b[0m \u001b[0;31m# Get the color the cmap is currently one\u001b[0m\u001b[0;34m\u001b[0m\u001b[0;34m\u001b[0m\u001b[0m\n\u001b[1;32m     11\u001b[0m \u001b[0;34m\u001b[0m\u001b[0m\n\u001b[0;32m---> 12\u001b[0;31m         axes[plot_xidx].scatter(data_set_norm_numpy[z_un == k, 0], data_set_norm_numpy[z_un == k, f_pair],\n\u001b[0m\u001b[1;32m     13\u001b[0m                                 \u001b[0mcmap\u001b[0m\u001b[0;34m=\u001b[0m\u001b[0;34m'viridis'\u001b[0m\u001b[0;34m,\u001b[0m \u001b[0mmarker\u001b[0m \u001b[0;34m=\u001b[0m \u001b[0mstyles\u001b[0m\u001b[0;34m[\u001b[0m\u001b[0mk\u001b[0m\u001b[0;34m]\u001b[0m\u001b[0;34m,\u001b[0m \u001b[0malpha\u001b[0m \u001b[0;34m=\u001b[0m \u001b[0;36m0.2\u001b[0m\u001b[0;34m,\u001b[0m\u001b[0;34m\u001b[0m\u001b[0;34m\u001b[0m\u001b[0m\n\u001b[1;32m     14\u001b[0m                                 zorder = -1)\n",
      "\u001b[0;31mNameError\u001b[0m: name 'z_un' is not defined"
     ]
    },
    {
     "data": {
      "text/plain": [
       "<Figure size 640x480 with 0 Axes>"
      ]
     },
     "execution_count": 17,
     "metadata": {
     },
     "output_type": "execute_result"
    },
    {
     "data": {
      "image/png": "[encoded data removed]"
     },
     "execution_count": 17,
     "metadata": {
     },
     "output_type": "execute_result"
    }
   ],
   "source": [
    "f = plt.figure();\n",
    "f, axes = plt.subplots(nrows=1, ncols=4, figsize=(20,4), sharex=False, sharey = False);\n",
    "\n",
    "tags = list(data_set_norm.columns)\n",
    "styles = [\"o\", \"s\", \"D\", \"*\", \"P\", \"p\"]\n",
    "\n",
    "K_everything = 4\n",
    "for plot_xidx, f_pair in enumerate([1,2,3,4]): # We have 5 features, and now plot the first against the othre 4\n",
    "    for k in range(K_everything):\n",
    "        colors = plt.rcParams[\"axes.prop_cycle\"].by_key()[\"color\"] # Get the color the cmap is currently one\n",
    "\n",
    "        axes[plot_xidx].scatter(data_set_norm_numpy[z_un == k, 0], data_set_norm_numpy[z_un == k, f_pair],\n",
    "                                cmap='viridis', marker = styles[k], alpha = 0.2,\n",
    "                                zorder = -1)\n",
    "    \n",
    "        axes[plot_xidx].scatter(mu_un[k, 0], mu_un[k, f_pair], s = 150, \n",
    "                                c = colors[k], edgecolors='black', marker = styles[k], alpha = 1, # Use the previously saved color\n",
    "                                zorder = 1)\n",
    "        # Add axis labels (obtained from the dataframe headers)\n",
    "        axes[plot_xidx].set_xlabel(tags[0])\n",
    "        axes[plot_xidx].set_ylabel(tags[f_pair]);"
   ]
  },
  {
   "cell_type": "code",
   "execution_count": 0,
   "metadata": {
    "collapsed": false
   },
   "outputs": [
   ],
   "source": [
   ]
  },
  {
   "cell_type": "code",
   "execution_count": 0,
   "metadata": {
    "collapsed": false,
    "scrolled": true
   },
   "outputs": [
   ],
   "source": [
    "#cProfile.run('K_means_debug(data_set_norm.to_numpy(), K_un)')"
   ]
  },
  {
   "cell_type": "markdown",
   "metadata": {
    "collapsed": false
   },
   "source": [
    "**Task: Visualise the data using PCA.** *(1 point)* You don't need to implement PCA yourself, you can use a package for this like `sklearn.decomposition.PCA`. Run PCA with 2 components, so that you get a 2-dimensional \"summary\" of your data. Plot this version of your data."
   ]
  },
  {
   "cell_type": "markdown",
   "metadata": {
    "collapsed": false
   },
   "source": [
    "**Running PCA**  \n",
    "First, we will run PCA with 2 principal components, like the assignment says. Afterwards, we will select the optimum number of principal components, which we can use as a (perhaps) better performing option for the supervised learning part."
   ]
  },
  {
   "cell_type": "code",
   "execution_count": 23,
   "metadata": {
    "collapsed": false
   },
   "outputs": [
   ],
   "source": [
    "from sklearn.decomposition import PCA\n",
    "from sklearn.preprocessing import StandardScaler\n",
    "from sklearn.preprocessing import MaxAbsScaler\n",
    "\n",
    "from sklearn.preprocessing import MinMaxScaler\n",
    "import matplotlib.pyplot as plt\n",
    "from mpl_toolkits.mplot3d import Axes3D"
   ]
  },
  {
   "cell_type": "code",
   "execution_count": 24,
   "metadata": {
    "collapsed": false
   },
   "outputs": [
   ],
   "source": [
    "# We delete the wine quality feature. This will be effectively used as \"label\" later on.\n",
    "y = data_set['quality']\n",
    "data_set_pca = data_set.drop(['quality'], axis = 1)\n",
    "\n",
    "# Standardizing the features\n",
    "data_set_pca = StandardScaler().fit_transform(data_set_pca)\n",
    "\n",
    "# Running the PCA\n",
    "pca2 = PCA(n_components = 2)\n",
    "data_set_2D = pca2.fit_transform(data_set_pca)"
   ]
  },
  {
   "cell_type": "markdown",
   "metadata": {
    "collapsed": false
   },
   "source": [
    "**Visualising PCA**  \n",
    "Now we visualise the results of the PCA."
   ]
  },
  {
   "cell_type": "code",
   "execution_count": 63,
   "metadata": {
    "collapsed": false
   },
   "outputs": [
    {
     "data": {
      "image/png": "[encoded data removed]"
     },
     "execution_count": 63,
     "metadata": {
     },
     "output_type": "execute_result"
    }
   ],
   "source": [
    "plt.scatter(data_set_2D[:,0], data_set_2D[:,1], alpha=0.8, c=y, cmap='RdYlGn')\n",
    "\n",
    "cbar = plt.colorbar()\n",
    "plt.xlabel('PC1')\n",
    "plt.ylabel('PC2');"
   ]
  },
  {
   "cell_type": "markdown",
   "metadata": {
    "collapsed": false
   },
   "source": [
    "By visual inspection, this does not look a whole lot better than before. Reducing dimensionality of the data does not seem to have given rise to any \"structure\" in terms of the relationship between the data (principal components) and the labels. We can additionally run k-means clustering on the PCA'd data as a means of trying to visualise the above plot in terms of how it can be clustered."
   ]
  },
  {
   "cell_type": "markdown",
   "metadata": {
    "collapsed": false
   },
   "source": [
    "**Running clustering on PCA data**"
   ]
  },
  {
   "cell_type": "code",
   "execution_count": 89,
   "metadata": {
    "collapsed": false
   },
   "outputs": [
   ],
   "source": [
    "total_quality_counts_2d = {k : np.array([0.0 for _ in range(1, 11)]) for k in range(6)}  # Will contain per cluster, a list with counts of each quality grade. E.g. {1: [0,0,3,5,10,6,3,1,0], ...}\n",
    "\n",
    "# Run k-means\n",
    "mu_pca, assigned_to_pca = k_means_vec(data_set_2D, k=6, return_D=False)\n",
    "\n",
    "for k in range(6): # For each cluster,\n",
    "    cluster_labels = label_set[assigned_to_pca==k] # subset the data,\n",
    "    curr_quality_counts = np.bincount(cluster_labels, minlength = 11) # Get counts of each grade (0 through 10, works for pos ints\n",
    "    curr_quality_counts = curr_quality_counts[1:] # Since this counts 0 as a grade, and that's not possible, we splice it off\n",
    "    curr_quality_counts = curr_quality_counts / len(label_set) # Now we calculate the fraction\n",
    "\n",
    "    total_quality_counts_2d[k] += curr_quality_counts"
   ]
  },
  {
   "cell_type": "code",
   "execution_count": 91,
   "metadata": {
    "collapsed": false
   },
   "outputs": [
    {
     "data": {
      "image/png": "[encoded data removed]"
     },
     "execution_count": 91,
     "metadata": {
     },
     "output_type": "execute_result"
    }
   ],
   "source": [
    "fig_pcaeval, axs_pcaeval = plt.subplots(nrows=1, ncols=6, figsize=(13,3), sharex=True, sharey=True)\n",
    "prop_cycle = plt.rcParams['axes.prop_cycle']\n",
    "colors = cycle(prop_cycle.by_key()['color'])\n",
    "\n",
    "for k in range(6):\n",
    "    axs_pcaeval[k].bar(x=[i for i in range(10)], height=(total_quality_counts_2d[k]), # Plot the average count, as a fraction of the total\n",
    "                    tick_label=[str(i) for i in range(1,11)], color=next(colors)) # Force cycling to the k-th color of the (default) cmap\n",
    "\n",
    "fig_pcaeval.suptitle(\"Fraction of each grade out of the total grades per cluster\", fontsize=14)\n",
    "fig_pcaeval.show()\n",
    "matplotlib.rcParams.update(matplotlib.rcParamsDefault)"
   ]
  },
  {
   "cell_type": "markdown",
   "metadata": {
    "collapsed": false
   },
   "source": [
    "We see comparable results as before. The clusters seem not to relate to the labels in a meaningful sense. We could at this point make a loadings plot to see how each feature contributes to each of the PC's, but, what would that tell us? If we inspect the scatterplot, there's no way of relating (for example) a high PC2 score and low PC1 score to a certain wine quality label. After all, no useful clusters were found, so we can't relate the PC-coordinates of the cluster to which features contributed most to the variance of the points in that cluster."
   ]
  },
  {
   "cell_type": "markdown",
   "metadata": {
    "collapsed": false
   },
   "source": [
    "**Varying number of PCs**  \n",
    "As said before, we now run PCA with a varying amount of components, to select the optimum amount of PCs. The criterion for this selection is the (added) amount of explained variance per principle component."
   ]
  },
  {
   "cell_type": "code",
   "execution_count": 71,
   "metadata": {
    "collapsed": false,
    "scrolled": true
   },
   "outputs": [
    {
     "data": {
      "image/png": "[encoded data removed]"
     },
     "execution_count": 71,
     "metadata": {
     },
     "output_type": "execute_result"
    }
   ],
   "source": [
    "# Run PCA with varying amount of components\n",
    "performance_pca = PCA().fit(data_set_pca)\n",
    "comparisons = range(1, performance_pca.n_components_ + 1)\n",
    "\n",
    "# Display percentage of additional explained variance per component\n",
    "expl_var = performance_pca.explained_variance_ratio_\n",
    "\n",
    "pca_fig1, (pca_ax1, pca_ax2) = plt.subplots(1, 2, figsize=(10,3))\n",
    "pca_ax1.plot(comparisons, expl_var)\n",
    "pca_ax1.vlines(4, 0.00, 0.093, color='red', linestyles='dashed')\n",
    "pca_ax1.hlines(0.09, 0, 4.01, color='red', linestyles='dashed')\n",
    "pca_ax1.set_xlabel('number of components')\n",
    "pca_ax1.set_ylabel('explained variance')\n",
    "pca_fig1.show()\n",
    "\n",
    "# Display cumulative explained variance\n",
    "cumul_var = np.cumsum(performance_pca.explained_variance_ratio_)\n",
    "\n",
    "#pca_fig2, pca_ax2 = plt.subplots()\n",
    "pca_ax2.plot(comparisons, cumul_var)\n",
    "var_at_4=0.64\n",
    "pca_ax2.vlines(4, 0.3, var_at_4, color='red', linestyles='dashed')\n",
    "pca_ax2.hlines(var_at_4, 0, 4.01, color='red', linestyles='dashed')\n",
    "pca_ax2.set_xlabel('number of components')\n",
    "pca_ax2.set_ylabel('cumulative explained variance')\n",
    "pca_fig2.show()"
   ]
  },
  {
   "cell_type": "code",
   "execution_count": 0,
   "metadata": {
    "collapsed": false
   },
   "outputs": [
   ],
   "source": [
   ]
  },
  {
   "cell_type": "code",
   "execution_count": 112,
   "metadata": {
    "collapsed": false
   },
   "outputs": [
    {
     "data": {
      "text/html": [
       "<div>\n",
       "<style scoped>\n",
       "    .dataframe tbody tr th:only-of-type {\n",
       "        vertical-align: middle;\n",
       "    }\n",
       "\n",
       "    .dataframe tbody tr th {\n",
       "        vertical-align: top;\n",
       "    }\n",
       "\n",
       "    .dataframe thead th {\n",
       "        text-align: right;\n",
       "    }\n",
       "</style>\n",
       "<table border=\"1\" class=\"dataframe\">\n",
       "  <thead>\n",
       "    <tr style=\"text-align: right;\">\n",
       "      <th></th>\n",
       "      <th>PCA 1</th>\n",
       "      <th>PCA 2</th>\n",
       "      <th>PCA 3</th>\n",
       "      <th>PCA 4</th>\n",
       "      <th>quality</th>\n",
       "    </tr>\n",
       "  </thead>\n",
       "  <tbody>\n",
       "    <tr>\n",
       "      <th>0</th>\n",
       "      <td>3.676944</td>\n",
       "      <td>-0.545233</td>\n",
       "      <td>-0.930422</td>\n",
       "      <td>-1.135374</td>\n",
       "      <td>6</td>\n",
       "    </tr>\n",
       "    <tr>\n",
       "      <th>1</th>\n",
       "      <td>-0.644588</td>\n",
       "      <td>0.430770</td>\n",
       "      <td>-0.356331</td>\n",
       "      <td>0.999117</td>\n",
       "      <td>6</td>\n",
       "    </tr>\n",
       "    <tr>\n",
       "      <th>2</th>\n",
       "      <td>0.155291</td>\n",
       "      <td>-1.189800</td>\n",
       "      <td>-0.017532</td>\n",
       "      <td>0.270219</td>\n",
       "      <td>6</td>\n",
       "    </tr>\n",
       "    <tr>\n",
       "      <th>3</th>\n",
       "      <td>1.455374</td>\n",
       "      <td>0.099680</td>\n",
       "      <td>-0.001956</td>\n",
       "      <td>-0.423022</td>\n",
       "      <td>6</td>\n",
       "    </tr>\n",
       "    <tr>\n",
       "      <th>4</th>\n",
       "      <td>1.455374</td>\n",
       "      <td>0.099680</td>\n",
       "      <td>-0.001956</td>\n",
       "      <td>-0.423022</td>\n",
       "      <td>6</td>\n",
       "    </tr>\n",
       "  </tbody>\n",
       "</table>\n",
       "</div>"
      ]
     },
     "execution_count": 112,
     "metadata": {
     },
     "output_type": "execute_result"
    }
   ],
   "source": [
    "# Running the PCA with 4 components.\n",
    "pca4 = PCA(n_components = 4)\n",
    "data_set_4D = pca4.fit_transform(data_set_pca)\n",
    "\n",
    "# of ja misschien toch wel overzichtelijker\n",
    "final_data_set = pd.DataFrame(data = data_set_4D, columns = ['PCA 1','PCA 2','PCA 3','PCA 4'])\n",
    "final_data_set = pd.concat([final_data_set, data_set[['quality']]], axis = 1)\n",
    "final_data_set.head()"
   ]
  },
  {
   "cell_type": "markdown",
   "metadata": {
    "collapsed": false
   },
   "source": [
    "**This is the end of the PCA stuff I think Dirk**"
   ]
  },
  {
   "cell_type": "code",
   "execution_count": 0,
   "metadata": {
    "collapsed": false
   },
   "outputs": [
   ],
   "source": [
    "# Plot the feautures in along the first two principle components of the model\n",
    "f, (axes)=plt.subplots(figsize = (23, 15), nrows=1, ncols=1)\n",
    "\n",
    "n_features = 10\n",
    "for i in range(n_features):\n",
    "    plt.arrow(0, 0, \n",
    "              performance_pca.components_[0,i], \n",
    "              performance_pca.components_[1,i],\n",
    "              color = 'r',alpha = 0.5, \n",
    "              head_width=0.02, overhang=0.5)\n",
    "    plt.text(performance_pca.components_[0,i]*1.3,\n",
    "            performance_pca.components_[1,i]*1.3,\n",
    "            data_set_pca.columns[i])\n",
    "    \n",
    "plt.xlim(-0.5,0.5)\n",
    "plt.ylim(-0.5,0.5)\n",
    "plt.xlabel(f\"PC1 {100*performance_pca.explained_variance_ratio_[0]:.2f}% of variance\", size = 12)\n",
    "plt.ylabel(f\"PC2 {100*performance_pca.explained_variance_ratio_[1]:.2f}% of variance\", size = 12)\n",
    "plt.title(\"First half of features projected onto PC1 and PC2\", size = 16);"
   ]
  },
  {
   "cell_type": "code",
   "execution_count": 0,
   "metadata": {
    "collapsed": false
   },
   "outputs": [
   ],
   "source": [
    "\"\"\"\n",
    "def load_dataset():\n",
    "    # load the data set\n",
    "    data_set = pd.read_csv(r'winequality-white.csv', sep=';', header = 0) \n",
    "    # treat Nan values\n",
    "    data_set.fillna(data_set.mean())\n",
    "    # split label from data\n",
    "    dataX, labelY = (data_set.drop(['quality'], axis = 1), data_set['quality'])\n",
    "    return (dataX, labelY)\n",
    "\n",
    "data_set1.fillna(data_set1.mean())\n",
    "\n",
    "def standardize(dataX):\n",
    "    # standardize the data set\n",
    "    scaler = StandardScaler() # scaler = MinMaxScaler() scaler = MaxAbsScaler()\n",
    "    dataX = scaler.fit_transform(dataX)\n",
    "    #dataX_scl = dataX / dataX.std() # Thijs approach\n",
    "    # rescale the label set\n",
    "    # label_set = label_set-3\n",
    "    return dataX\n",
    "\n",
    "# load train and test dataset\n",
    "def construct_datasets(train, label, model_type):\n",
    "    # construct test and training set\n",
    "    trainX, testX, trainY, testY = train_test_split(\n",
    "        train.to_numpy(), \n",
    "        label.to_numpy(), \n",
    "        test_size=0.1, \n",
    "        shuffle=True)\n",
    "    \n",
    "    \n",
    "    if model_type == 'MLP' or model_type == 'DCN': \n",
    "        # one hot encode target values\n",
    "        trainY = to_categorical(trainY, num_classes=len(np.unique(label)))\n",
    "        testY = to_categorical(testY, num_classes=len(np.unique(label)))\n",
    "        if model_type == 'DCN': \n",
    "        trainX = trainX.reshape((trainX.shape[0], 12, 1))\n",
    "        testX = testX.reshape((testX.shape[0], 12, 1))\n",
    "    \n",
    "\n",
    "    return trainX, trainY, testX, testY\n",
    "\"\"\""
   ]
  },
  {
   "cell_type": "code",
   "execution_count": 0,
   "metadata": {
    "collapsed": false
   },
   "outputs": [
   ],
   "source": [
    "\"\"\"\n",
    "# standardize the data set\n",
    "scaler = StandardScaler()\n",
    "data_set_stand = scaler.fit_transform(data_set)\n",
    "data_set_norm = data_set1 / data_set1.std() # Thijs approach\n",
    "\"\"\""
   ]
  },
  {
   "cell_type": "code",
   "execution_count": 0,
   "metadata": {
    "collapsed": false
   },
   "outputs": [
   ],
   "source": [
    "expl_var = np.cumsum(pca.explained_variance_ratio_)\n",
    "plt.plot(comps, expl_var)\n",
    "plt.xlabel('number of components')\n",
    "plt.ylabel('cumulative explained variance');"
   ]
  },
  {
   "cell_type": "code",
   "execution_count": 0,
   "metadata": {
    "collapsed": false
   },
   "outputs": [
   ],
   "source": [
    "# 2 component PCA\n",
    "pca2 = PCA(n_components=2)\n",
    "principalComponents = pca2.fit_transform(x) # Thijs approach: data_set_norm; or data_set_stand\n",
    "\n",
    "principalDf = pd.DataFrame(data = principalComponents, columns = ['principal component 1', 'principal component 2'])\n",
    "\n",
    "finalDf = pd.concat([principalDf, data_set[['quality']]], axis = 1)\n",
    "finalDf.head()"
   ]
  },
  {
   "cell_type": "code",
   "execution_count": 0,
   "metadata": {
    "collapsed": false
   },
   "outputs": [
   ],
   "source": [
    "# visualization of 2 component PCA\n",
    "plt.figure(figsize=(10,10))\n",
    "plt.scatter(finalDf['principal component 1'],finalDf['principal component 2'],c=finalDf['quality'],cmap='prism', s =5)\n",
    "plt.xlabel('pc1')\n",
    "plt.ylabel('pc2')\n",
    "plt.xlim(-5, 5)\n",
    "plt.ylim(-4, 6)\n",
    "plt.show()"
   ]
  },
  {
   "cell_type": "code",
   "execution_count": 0,
   "metadata": {
    "collapsed": false
   },
   "outputs": [
   ],
   "source": [
    "# 3 component PCA\n",
    "from mpl_toolkits.mplot3d import Axes3D\n",
    "\n",
    "pca3 = PCA(n_components=3)\n",
    "principalComponents = pca3.fit_transform(x) # Thijs approach: data_set_norm; or data_set_stand\n",
    "\n",
    "principalDf = pd.DataFrame(data = principalComponents, columns = ['principal component 1', 'principal component 2', 'principal component 3'])\n",
    "\n",
    "finalDf = pd.concat([principalDf, data_set[['quality']]], axis = 1)\n",
    "finalDf.head()"
   ]
  },
  {
   "cell_type": "code",
   "execution_count": 0,
   "metadata": {
    "collapsed": false
   },
   "outputs": [
   ],
   "source": [
    "# visualization of 3 component PCA\n",
    "fig = plt.figure(figsize=(12,12))\n",
    "axes = Axes3D(fig)\n",
    "axes.set_title('PCA Representation', size=14)\n",
    "axes.set_xlabel('PC1')\n",
    "axes.set_ylabel('PC2')\n",
    "axes.set_zlabel('PC3')\n",
    "\n",
    "axes.scatter(finalDf['principal component 1'],finalDf['principal component 2'],finalDf['principal component 3'],c=finalDf['quality'], cmap = 'prism', s=10);"
   ]
  },
  {
   "cell_type": "code",
   "execution_count": 0,
   "metadata": {
    "collapsed": false
   },
   "outputs": [
   ],
   "source": [
    "# Hopeless attempt to check whether PCA can solve the problem: implementing a simple logistic regression for 2 component PCA"
   ]
  },
  {
   "cell_type": "code",
   "execution_count": 0,
   "metadata": {
    "collapsed": false
   },
   "outputs": [
   ],
   "source": [
    "\n",
    "\n",
    "### Standardizing the Dataset\n",
    "#scaler = StandardScaler()\n",
    "\n",
    "# Fit on training set only.\n",
    "#scaler.fit(X_train)\n",
    "\n",
    "# Apply transform to both the training set and the test set.\n",
    "#X_train_pca = scaler.transform(X_train)\n",
    "#X_test_pca = scaler.transform(X_test)"
   ]
  },
  {
   "cell_type": "code",
   "execution_count": 165,
   "metadata": {
    "collapsed": false
   },
   "outputs": [
    {
     "ename": "NameError",
     "evalue": "name 'X_train' is not defined",
     "output_type": "error",
     "traceback": [
      "\u001b[0;31m---------------------------------------------------------------------------\u001b[0m",
      "\u001b[0;31mNameError\u001b[0m                                 Traceback (most recent call last)",
      "\u001b[0;32m<ipython-input-165-86defa5ceb9d>\u001b[0m in \u001b[0;36m<module>\u001b[0;34m\u001b[0m\n\u001b[1;32m      8\u001b[0m \u001b[0;31m#fit logistic regression to the data set with PCA\u001b[0m\u001b[0;34m\u001b[0m\u001b[0;34m\u001b[0m\u001b[0;34m\u001b[0m\u001b[0m\n\u001b[1;32m      9\u001b[0m \u001b[0mlogisticRegr\u001b[0m \u001b[0;34m=\u001b[0m \u001b[0mLogisticRegression\u001b[0m\u001b[0;34m(\u001b[0m\u001b[0mmulti_class\u001b[0m\u001b[0;34m=\u001b[0m\u001b[0;34m'multinomial'\u001b[0m\u001b[0;34m,\u001b[0m \u001b[0msolver\u001b[0m\u001b[0;34m=\u001b[0m\u001b[0;34m'lbfgs'\u001b[0m\u001b[0;34m,\u001b[0m \u001b[0mpenalty\u001b[0m\u001b[0;34m=\u001b[0m\u001b[0;34m'l2'\u001b[0m\u001b[0;34m,\u001b[0m \u001b[0mC\u001b[0m\u001b[0;34m=\u001b[0m\u001b[0;36m0.001\u001b[0m\u001b[0;34m,\u001b[0m \u001b[0mverbose\u001b[0m \u001b[0;34m=\u001b[0m\u001b[0;36m1\u001b[0m\u001b[0;34m,\u001b[0m \u001b[0mn_jobs\u001b[0m\u001b[0;34m=\u001b[0m\u001b[0;34m-\u001b[0m\u001b[0;36m1\u001b[0m\u001b[0;34m)\u001b[0m\u001b[0;34m\u001b[0m\u001b[0;34m\u001b[0m\u001b[0m\n\u001b[0;32m---> 10\u001b[0;31m \u001b[0mlogisticRegr\u001b[0m\u001b[0;34m.\u001b[0m\u001b[0mfit\u001b[0m\u001b[0;34m(\u001b[0m\u001b[0mX_train\u001b[0m\u001b[0;34m,\u001b[0m\u001b[0my_train\u001b[0m\u001b[0;34m)\u001b[0m \u001b[0;31m# X_train_pca\u001b[0m\u001b[0;34m\u001b[0m\u001b[0;34m\u001b[0m\u001b[0m\n\u001b[0m\u001b[1;32m     11\u001b[0m \u001b[0;34m\u001b[0m\u001b[0m\n\u001b[1;32m     12\u001b[0m \u001b[0mmodel_eval\u001b[0m \u001b[0;34m=\u001b[0m \u001b[0mRepeatedStratifiedKFold\u001b[0m\u001b[0;34m(\u001b[0m\u001b[0mn_splits\u001b[0m\u001b[0;34m=\u001b[0m\u001b[0;36m3\u001b[0m\u001b[0;34m,\u001b[0m \u001b[0mn_repeats\u001b[0m\u001b[0;34m=\u001b[0m\u001b[0;36m5\u001b[0m\u001b[0;34m,\u001b[0m \u001b[0mrandom_state\u001b[0m\u001b[0;34m=\u001b[0m\u001b[0;36m1\u001b[0m\u001b[0;34m)\u001b[0m\u001b[0;34m\u001b[0m\u001b[0;34m\u001b[0m\u001b[0m\n",
      "\u001b[0;31mNameError\u001b[0m: name 'X_train' is not defined"
     ]
    }
   ],
   "source": [
    "from numpy import mean\n",
    "from numpy import std\n",
    "from sklearn.model_selection import cross_val_score\n",
    "from sklearn.model_selection import RepeatedStratifiedKFold\n",
    "from sklearn.linear_model import LogisticRegression\n",
    "\n",
    "#fit logistic regression to the data set with PCA\n",
    "logisticRegr = LogisticRegression(multi_class='multinomial', solver='lbfgs', penalty='l2', C=0.001, verbose =1, n_jobs=-1)\n",
    "logisticRegr.fit(X_train,y_train) # X_train_pca\n",
    "    \n",
    "model_eval = RepeatedStratifiedKFold(n_splits=3, n_repeats=5, random_state=1)\n",
    "score = cross_val_score(model, X_train, y_train, scoring='accuracy', cv=model_eval, n_jobs=-1)\n",
    "print('Mean Accuracy: {:.3f}%, Standard deviation: {:.3f}%'.format(mean(score)*100, std(score)*100))\n",
    "\n",
    "y_train_hat =logisticRegr.predict(X_train) # X_train_pca\n",
    "train_accuracy = accuracy_score(y_train, y_train_hat)*100\n",
    "print('\"Accuracy for Training dataset with PCA is: %.4f %%' % train_accuracy)"
   ]
  },
  {
   "cell_type": "code",
   "execution_count": 0,
   "metadata": {
    "collapsed": false
   },
   "outputs": [
   ],
   "source": [
    "y_test_hat=logisticRegr.predict(X_test) # X_test_pca\n",
    "test_accuracy=accuracy_score(y_test,y_test_hat)*100\n",
    "test_accuracy\n",
    "print(\"Accuracy for Testing dataset with PCA is : {:.3f}%\".format(test_accuracy) )"
   ]
  },
  {
   "cell_type": "markdown",
   "metadata": {
    "collapsed": false
   },
   "source": [
    "## Supervised learning\n",
    "\n",
    "**Task: Train and compare supervised learning methods.** *(3 points)* For the final part of this assignment, you'll try two different regression or classification methods on your dataset. You don't need to implement these yourself, you can use existing packages. You should also experiment with different settings of those methods, like how many features they get to see, or what the value of a regularisation parameter is. Your goal is to select a method that you believe will give the best results where more data from the same source come in.\n",
    "\n",
    "Write a report on your findings.\n",
    "\n",
    "In your report, you should specifically pay attention to the following:\n",
    "\n",
    "* Which two supervised learning methods will you use? Why did you pick these two? (You can pick a method that hasn't been discussed (yet) during the course, if you want.)\n",
    "\n",
    "* When comparing the performance of different alternatives, keep in mind that the error on training data is not a good estimate of the error on unseen data. To get a measure for the latter, you can for example use a form of cross-validation.\n",
    "\n",
    "* What method and settings do you recommend? What choices (of method, of various settings) make the biggest difference for the performance on new data?"
   ]
  },
  {
   "cell_type": "code",
   "execution_count": 151,
   "metadata": {
    "collapsed": false
   },
   "outputs": [
    {
     "ename": "ModuleNotFoundError",
     "evalue": "No module named 'tensorflow'",
     "output_type": "error",
     "traceback": [
      "\u001b[0;31m---------------------------------------------------------------------------\u001b[0m",
      "\u001b[0;31mModuleNotFoundError\u001b[0m                       Traceback (most recent call last)",
      "\u001b[0;32m<ipython-input-151-17dc5df23c91>\u001b[0m in \u001b[0;36m<module>\u001b[0;34m\u001b[0m\n\u001b[1;32m      2\u001b[0m \u001b[0;32mimport\u001b[0m \u001b[0mpandas\u001b[0m \u001b[0;32mas\u001b[0m \u001b[0mpd\u001b[0m\u001b[0;34m\u001b[0m\u001b[0;34m\u001b[0m\u001b[0m\n\u001b[1;32m      3\u001b[0m \u001b[0;32mfrom\u001b[0m \u001b[0msklearn\u001b[0m\u001b[0;34m.\u001b[0m\u001b[0mmodel_selection\u001b[0m \u001b[0;32mimport\u001b[0m \u001b[0mtrain_test_split\u001b[0m\u001b[0;34m\u001b[0m\u001b[0;34m\u001b[0m\u001b[0m\n\u001b[0;32m----> 4\u001b[0;31m \u001b[0;32mfrom\u001b[0m \u001b[0mtensorflow\u001b[0m\u001b[0;34m.\u001b[0m\u001b[0mkeras\u001b[0m \u001b[0;32mimport\u001b[0m \u001b[0mregularizers\u001b[0m\u001b[0;34m\u001b[0m\u001b[0;34m\u001b[0m\u001b[0m\n\u001b[0m\u001b[1;32m      5\u001b[0m \u001b[0;34m\u001b[0m\u001b[0m\n\u001b[1;32m      6\u001b[0m \u001b[0;32mimport\u001b[0m \u001b[0mmatplotlib\u001b[0m\u001b[0;34m.\u001b[0m\u001b[0mpyplot\u001b[0m \u001b[0;32mas\u001b[0m \u001b[0mplt\u001b[0m\u001b[0;34m\u001b[0m\u001b[0;34m\u001b[0m\u001b[0m\n",
      "\u001b[0;31mModuleNotFoundError\u001b[0m: No module named 'tensorflow'"
     ]
    }
   ],
   "source": [
    "import numpy as np\n",
    "import pandas as pd\n",
    "from sklearn.model_selection import train_test_split\n",
    "from tensorflow.keras import regularizers\n",
    "\n",
    "import matplotlib.pyplot as plt\n",
    "from tensorflow.keras.utils import to_categorical\n",
    "from keras.models import Sequential\n",
    "from keras.layers import Dense\n",
    "from keras.layers import Dropout\n",
    "from tensorflow.keras.optimizers import RMSprop\n",
    "from tensorflow.keras.optimizers import Adam\n",
    "from tensorflow.keras.optimizers import Adadelta"
   ]
  },
  {
   "cell_type": "code",
   "execution_count": 166,
   "metadata": {
    "collapsed": false
   },
   "outputs": [
    {
     "ename": "NameError",
     "evalue": "name 'X_train' is not defined",
     "output_type": "error",
     "traceback": [
      "\u001b[0;31m---------------------------------------------------------------------------\u001b[0m",
      "\u001b[0;31mNameError\u001b[0m                                 Traceback (most recent call last)",
      "\u001b[0;32m<ipython-input-166-e1d140f0f487>\u001b[0m in \u001b[0;36m<module>\u001b[0;34m\u001b[0m\n\u001b[1;32m      8\u001b[0m \u001b[0;31m#fit logistic regression to the data set with PCA\u001b[0m\u001b[0;34m\u001b[0m\u001b[0;34m\u001b[0m\u001b[0;34m\u001b[0m\u001b[0m\n\u001b[1;32m      9\u001b[0m \u001b[0mlogisticRegr\u001b[0m \u001b[0;34m=\u001b[0m \u001b[0mLogisticRegression\u001b[0m\u001b[0;34m(\u001b[0m\u001b[0mmulti_class\u001b[0m\u001b[0;34m=\u001b[0m\u001b[0;34m'multinomial'\u001b[0m\u001b[0;34m,\u001b[0m \u001b[0msolver\u001b[0m\u001b[0;34m=\u001b[0m\u001b[0;34m'lbfgs'\u001b[0m\u001b[0;34m,\u001b[0m \u001b[0mpenalty\u001b[0m\u001b[0;34m=\u001b[0m\u001b[0;34m'l2'\u001b[0m\u001b[0;34m,\u001b[0m \u001b[0mC\u001b[0m\u001b[0;34m=\u001b[0m\u001b[0;36m0.001\u001b[0m\u001b[0;34m,\u001b[0m \u001b[0mverbose\u001b[0m \u001b[0;34m=\u001b[0m\u001b[0;36m1\u001b[0m\u001b[0;34m,\u001b[0m \u001b[0mn_jobs\u001b[0m\u001b[0;34m=\u001b[0m\u001b[0;34m-\u001b[0m\u001b[0;36m1\u001b[0m\u001b[0;34m)\u001b[0m\u001b[0;34m\u001b[0m\u001b[0;34m\u001b[0m\u001b[0m\n\u001b[0;32m---> 10\u001b[0;31m \u001b[0mlogisticRegr\u001b[0m\u001b[0;34m.\u001b[0m\u001b[0mfit\u001b[0m\u001b[0;34m(\u001b[0m\u001b[0mX_train\u001b[0m\u001b[0;34m,\u001b[0m\u001b[0my_train\u001b[0m\u001b[0;34m)\u001b[0m \u001b[0;31m# X_train_pca\u001b[0m\u001b[0;34m\u001b[0m\u001b[0;34m\u001b[0m\u001b[0m\n\u001b[0m\u001b[1;32m     11\u001b[0m \u001b[0;34m\u001b[0m\u001b[0m\n\u001b[1;32m     12\u001b[0m \u001b[0mmodel_eval\u001b[0m \u001b[0;34m=\u001b[0m \u001b[0mRepeatedStratifiedKFold\u001b[0m\u001b[0;34m(\u001b[0m\u001b[0mn_splits\u001b[0m\u001b[0;34m=\u001b[0m\u001b[0;36m3\u001b[0m\u001b[0;34m,\u001b[0m \u001b[0mn_repeats\u001b[0m\u001b[0;34m=\u001b[0m\u001b[0;36m5\u001b[0m\u001b[0;34m,\u001b[0m \u001b[0mrandom_state\u001b[0m\u001b[0;34m=\u001b[0m\u001b[0;36m1\u001b[0m\u001b[0;34m)\u001b[0m\u001b[0;34m\u001b[0m\u001b[0;34m\u001b[0m\u001b[0m\n",
      "\u001b[0;31mNameError\u001b[0m: name 'X_train' is not defined"
     ]
    }
   ],
   "source": [
    "from numpy import mean\n",
    "from numpy import std\n",
    "from sklearn.metrics import accuracy_score\n",
    "from sklearn.model_selection import cross_val_score\n",
    "from sklearn.model_selection import RepeatedStratifiedKFold\n",
    "from sklearn.linear_model import LogisticRegression\n",
    "\n",
    "#fit logistic regression to the data set with PCA\n",
    "logisticRegr = LogisticRegression(multi_class='multinomial', solver='lbfgs', penalty='l2', C=0.001, verbose =1, n_jobs=-1)\n",
    "logisticRegr.fit(X_train,y_train) # X_train_pca\n",
    "    \n",
    "model_eval = RepeatedStratifiedKFold(n_splits=3, n_repeats=5, random_state=1)\n",
    "score = cross_val_score(model, X_train, y_train, scoring='accuracy', cv=model_eval, n_jobs=-1)\n",
    "print('Mean Accuracy: {:.3f}%, Standard deviation: {:.3f}%'.format(mean(score)*100, std(score)*100))\n",
    "\n",
    "y_train_hat =logisticRegr.predict(X_train) # X_train_pca\n",
    "train_accuracy = accuracy_score(y_train, y_train_hat)*100\n",
    "print('\"Accuracy for Training dataset with PCA is: %.4f %%' % train_accuracy)\n",
    "\n",
    "y_test_hat=logisticRegr.predict(X_test) # X_test_pca\n",
    "test_accuracy=accuracy_score(y_test,y_test_hat)*100\n",
    "test_accuracy\n",
    "print(\"Accuracy for Testing dataset with PCA is : {:.3f}%\".format(test_accuracy) )\n",
    "\n",
    "\n",
    "# We delete the wine quality feature. This will be effectively used as \"label\" later on.\n",
    "y = data_set['quality']\n",
    "data_set_pca = data_set.drop(['quality'], axis = 1)\n",
    "\n",
    "# Standardizing the features\n",
    "\n"
   ]
  },
  {
   "cell_type": "code",
   "execution_count": 187,
   "metadata": {
    "collapsed": false
   },
   "outputs": [
   ],
   "source": [
    "from numpy import mean\n",
    "from numpy import std\n",
    "from sklearn.metrics import accuracy_score\n",
    "from sklearn.datasets import make_classification\n",
    "from sklearn.model_selection import cross_val_score\n",
    "from sklearn.model_selection import RepeatedStratifiedKFold\n",
    "from sklearn.linear_model import LogisticRegression\n",
    "\n",
    "def define_LogReg_model():\n",
    "    #fit logistic regression to the data set with PCA\n",
    "    model = LogisticRegression(multi_class='multinomial', solver='lbfgs', penalty='l2', C=0.001, n_jobs=-1) \n",
    "    return model\n",
    "    \n",
    "def evaluate_logreg_model(model, trainX, trainY, testX, testY):\n",
    "    \"\"\"\n",
    "    # define the model evaluation procedure\n",
    "    model_eval = RepeatedStratifiedKFold(n_splits=3, n_repeats=5, random_state=1)\n",
    "    # evaluate the model and collect the scores\n",
    "    score = cross_val_score(model, trainings_set, label_set, scoring='accuracy', cv=model_eval, n_jobs=-1)\n",
    "    # report the model performance\n",
    "    print('Mean Accuracy: %.3f (%.3f)' % (mean(score), std(score)))\n",
    "    \"\"\"\n",
    "    model.fit(trainX,trainY)\n",
    "    model_eval = RepeatedStratifiedKFold(n_splits=2, n_repeats=5, random_state=1)\n",
    "    score = cross_val_score(model, trainX, trainY, scoring='accuracy', cv=model_eval, n_jobs=-1)\n",
    "    print('Mean Accuracy: {:.3f}%, Standard deviation: {:.3f}%'.format(mean(score)*100, std(score)*100))\n",
    "\n",
    "    trainY_hat =model.predict(trainX) # X_train_pca\n",
    "    train_accuracy = accuracy_score(trainY, trainY_hat)*100\n",
    "    print('Accuracy for Training dataset with PCA is: %.4f %%' % train_accuracy)\n",
    "\n",
    "    testY_hat=model.predict(testX) # X_test_pca\n",
    "    test_accuracy=accuracy_score(testY,testY_hat)*100\n",
    "    test_accuracy\n",
    "    print('Accuracy for Testing dataset with PCA is : {:.3f}%'.format(test_accuracy) )\n",
    "\n",
    "def run_multino_logreg():\n",
    "    # define dataset\n",
    "    #traings_set, label_set = load_dataset()\n",
    "    trainings_set, label_set = (final_data_set.drop(['quality'], axis = 1), final_data_set['quality'])\n",
    "    # prepocess data\n",
    "    trainings_set_stand, label_set_resc = preprocess_data(trainings_set, label_set)\n",
    "    # define the multinomial logistic regression model\n",
    "    model_type = 2\n",
    "    trainX, trainY, testX, testY = construct_datasets(trainings_set_stand, label_set_resc, model_type)\n",
    "    # define LogReg model\n",
    "    model = define_LogReg_model()\n",
    "    # evaluate the multinomial logistic regression model\n",
    "    evaluate_logreg_model(model, trainX, trainY, testX, testY)"
   ]
  },
  {
   "cell_type": "code",
   "execution_count": 188,
   "metadata": {
    "collapsed": false
   },
   "outputs": [
    {
     "name": "stdout",
     "output_type": "stream",
     "text": [
      "Mean Accuracy: 44.995%, Standard deviation: 0.073%\n",
      "Accuracy for Training dataset with PCA is: 45.7577 %\n",
      "Accuracy for Testing dataset with PCA is : 46.122%\n"
     ]
    }
   ],
   "source": [
    "#run_multino_logreg()\n",
    "run_multino_logreg()"
   ]
  },
  {
   "cell_type": "code",
   "execution_count": 0,
   "metadata": {
    "collapsed": false
   },
   "outputs": [
   ],
   "source": [
   ]
  },
  {
   "cell_type": "code",
   "execution_count": 0,
   "metadata": {
    "collapsed": false
   },
   "outputs": [
   ],
   "source": [
   ]
  },
  {
   "cell_type": "code",
   "execution_count": 156,
   "metadata": {
    "collapsed": false
   },
   "outputs": [
   ],
   "source": [
    "def load_dataset():\n",
    "    # load the data set\n",
    "    data_set = pd.read_csv(r'winequality-white.csv', sep=';', header = 0)  \n",
    "    trainings_set, label_set = (data_set.drop(['quality'], axis = 1), data_set['quality'])\n",
    "    return trainings_set, label_set\n",
    "\n",
    "def preprocess_data(data_set, label_set):\n",
    "    # standardize the trainings data\n",
    "    data_set = StandardScaler().fit_transform(data_set)\n",
    "    # rescale the label set\n",
    "    label_set = label_set-3\n",
    "    return data_set, label_set\n",
    "\n",
    "# load train and test dataset\n",
    "def construct_datasets(train, label, model_type):\n",
    "    # construct test and training set\n",
    "    trainX, testX, trainY, testY = train_test_split(\n",
    "        train,#.to_numpy(), \n",
    "        label,#.to_numpy(), \n",
    "        test_size=0.1, \n",
    "        shuffle=True)\n",
    "    \n",
    "    if model_type == 1: \n",
    "        trainX = trainX.reshape((trainX.shape[0], 12, 1))\n",
    "        testX = testX.reshape((testX.shape[0], 12, 1))\n",
    "    \n",
    "    # one hot encode target values\n",
    "    #trainY = to_categorical(trainY, num_classes=len(np.unique(label)))\n",
    "    #testY = to_categorical(testY, num_classes=len(np.unique(label)))\n",
    "    return trainX, trainY, testX, testY"
   ]
  },
  {
   "cell_type": "code",
   "execution_count": 0,
   "metadata": {
    "collapsed": false
   },
   "outputs": [
   ],
   "source": [
    "# define MLP model\n",
    "def define_MLP_model(num_features):\n",
    "    model = Sequential()\n",
    "    model.add(Dense(units=128,\n",
    "                    #kernel_regularizer=regularizers.l2(1e-5), \n",
    "                    #activity_regularizer=regularizers.l2(1e-5), \n",
    "                    activation='tanh', \n",
    "                    input_dim=num_features))\n",
    "    model.add(Dropout(0.20))\n",
    "    model.add(Dense(units=32, \n",
    "                    #kernel_regularizer=regularizers.l2(1e-5), \n",
    "                    #activity_regularizer=regularizers.l2(1e-5), \n",
    "                    activation='tanh'))\n",
    "    model.add(Dropout(0.25))\n",
    "    model.add(Dense(units=7, \n",
    "                    activation='softmax'))\n",
    "    \n",
    "    # compile model\n",
    "    model.compile(optimizer=RMSprop(learning_rate = 0.003),\n",
    "                  loss='categorical_crossentropy',\n",
    "                  metrics=['accuracy'])\n",
    "    return model\n",
    "\n",
    "# define DCN model\n",
    "def define_DCN_model(num_features):\n",
    "    model = Sequential()\n",
    "    model.add(Conv1D(32, kernel_size=(1),\n",
    "             activation='tanh',\n",
    "             input_shape=(num_features,1)))\n",
    "    model.add(Dropout(0.20))\n",
    "    model.add(Conv1D(16, kernel_size=(1),\n",
    "             activation='tanh'))\n",
    "    model.add(Dropout(0.25))\n",
    "    model.add(Flatten())\n",
    "    model.add(Dense(units=7, \n",
    "                    activation='softmax'))\n",
    "    \n",
    "    # compile model\n",
    "    model.compile(optimizer = RMSprop(learning_rate = 0.003),\n",
    "                  loss = 'categorical_crossentropy',\n",
    "                  metrics = ['accuracy'])\n",
    "    return model\n",
    "\n",
    "def predict (model, testX, testY):     \n",
    "    prediction = model.predict(testX) \n",
    "    prediction = np.argmax(prediction, axis = 1)[:20] \n",
    "    label = np.argmax(testY,axis = 1)[:20] \n",
    "    print(prediction) \n",
    "    print(label)\n",
    "\n",
    "def build_plots(history):   \n",
    "    # summarize history for accuracy\n",
    "    plt.plot(history.history['accuracy'])\n",
    "    plt.plot(history.history['val_accuracy'])\n",
    "    plt.title('model accuracy')\n",
    "    plt.ylabel('accuracy')\n",
    "    plt.xlabel('epoch')\n",
    "    plt.legend(['train', 'test'], loc='upper left')\n",
    "    plt.show()\n",
    "    \n",
    "    # summarize history for loss\n",
    "    plt.plot(history.history['loss'])\n",
    "    plt.plot(history.history['val_loss'])\n",
    "    plt.title('model loss')\n",
    "    plt.ylabel('loss')\n",
    "    plt.xlabel('epoch')\n",
    "    plt.legend(['train', 'test'], loc='upper left')\n",
    "    plt.show()\n",
    "    \n",
    "def evaluate_NN_model(trainX, trainY, testX, testY, model_type):\n",
    "    # define model\n",
    "    num_features = trainX.shape[1]\n",
    "        \n",
    "    if model_type == 0:\n",
    "        model = define_MLP_model(num_features)\n",
    "    else:\n",
    "        model = define_DCN_model(num_features)\n",
    "    model.summary()\n",
    "    \n",
    "    # fit model\n",
    "    history = model.fit(trainX,\n",
    "                        trainY, \n",
    "                        batch_size=64,\n",
    "                        epochs=70,\n",
    "                        verbose=1,\n",
    "                        validation_split = 0.25)\n",
    "    score = model.evaluate(testX, testY, verbose=1)   \n",
    "    \n",
    "    # list accuracy and loss all data in history\n",
    "    print(\"Final score:\", score)\n",
    "    \n",
    "    # model prediction of the test set\n",
    "    predict(model, testX, testY)\n",
    "    \n",
    "    # plot training process for accuracy and loss\n",
    "    build_plots(history)    \n",
    "\n",
    "def run_NN():\n",
    "    model_type = 1 #0 for MLP, 1 for DCN\n",
    "    # load data\n",
    "    traings_set, label_set = load_dataset()\n",
    "    # prepocess data\n",
    "    trainings_set_stand, label_set_resc = preprocess_data(traings_set, label_set)\n",
    "    # construct training and test sets\n",
    "    trainX, trainY, testX, testY = construct_datasets(trainings_set_stand, label_set_resc, model_type)\n",
    "    # evaluate model\n",
    "    evaluate_NN_model(X_train_pca,y_train, X_test_pca, y_test, model_type)\n",
    "    #evaluate_NN_model(trainX, trainY, testX, testY, model_type)"
   ]
  },
  {
   "cell_type": "code",
   "execution_count": 0,
   "metadata": {
    "collapsed": false,
    "scrolled": true
   },
   "outputs": [
   ],
   "source": [
    "# entry point, run the MLP\n",
    "run_NN()"
   ]
  },
  {
   "cell_type": "markdown",
   "metadata": {
    "collapsed": false
   },
   "source": [
    "*Your report here*"
   ]
  },
  {
   "cell_type": "markdown",
   "metadata": {
    "collapsed": false
   },
   "source": [
    "    \n",
    "---\n",
    "\n",
    "<br>\n",
    "<br>"
   ]
  },
  {
   "cell_type": "markdown",
   "metadata": {
    "collapsed": false
   },
   "source": [
    "**Remember:**\n",
    "\n",
    "* **Before you submit, click Kernel > Restart & Run All to make sure you submit a working version of your code!**\n",
    "\n",
    "* **Upload both this notebook and your data file in Blackboard**"
   ]
  }
 ],
 "metadata": {
  "kernelspec": {
   "display_name": "Python 3",
   "language": "python",
   "name": "python3"
  },
  "language_info": {
   "codemirror_mode": {
    "name": "ipython",
    "version": 3
   },
   "file_extension": ".py",
   "mimetype": "text/x-python",
   "name": "python",
   "nbconvert_exporter": "python",
   "pygments_lexer": "ipython3",
   "version": "3.8.2"
  },
  "toc": {
   "base_numbering": 1,
   "nav_menu": {
   },
   "number_sections": true,
   "sideBar": true,
   "skip_h1_title": false,
   "title_cell": "Table of Contents",
   "title_sidebar": "Contents",
   "toc_cell": false,
   "toc_position": {
   },
   "toc_section_display": true,
   "toc_window_display": true
  }
 },
 "nbformat": 4,
 "nbformat_minor": 0
}